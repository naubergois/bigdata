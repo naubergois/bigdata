{
 "cells": [
  {
   "cell_type": "markdown",
   "metadata": {},
   "source": [
    "<center>\n",
    "<img src=\"../../img/ods_stickers.jpg\">\n",
    "## Открытый курс по машинному обучению. Сессия № 3\n",
    "\n",
    "### <center> Автор материала: Михаил Мельник (m.v.melnick@gmail.com)"
   ]
  },
  {
   "cell_type": "markdown",
   "metadata": {},
   "source": [
    "## <center> Индивидуальный проект по анализу данных </center>\n",
    "### <center> \"Прогнозирование бронирований на AirBnB\" </center>"
   ]
  },
  {
   "cell_type": "markdown",
   "metadata": {},
   "source": [
    "**План исследования**\n",
    " - Описание набора данных и признаков\n",
    " - Первичный анализ признаков\n",
    " - Первичный визуальный анализ признаков\n",
    " - Закономерности, \"инсайты\", особенности данных\n",
    " - Предобработка данных\n",
    " - Создание новых признаков и описание этого процесса\n",
    " - Кросс-валидация, подбор параметров\n",
    " - Построение кривых валидации и обучения \n",
    " - Прогноз для тестовой или отложенной выборки\n",
    " - Оценка модели с описанием выбранной метрики\n",
    " - Выводы\n",
    " \n",
    " Более детальное описание [тут](https://goo.gl/cJbw7V)."
   ]
  },
  {
   "cell_type": "markdown",
   "metadata": {},
   "source": [
    "#### Импортируем необходимые библиотеки"
   ]
  },
  {
   "cell_type": "code",
   "execution_count": 1,
   "metadata": {},
   "outputs": [],
   "source": [
    "import numpy as np\n",
    "import pandas as pd\n",
    "from matplotlib import pyplot as plt\n",
    "import seaborn as sns\n",
    "from sklearn.preprocessing import LabelBinarizer, StandardScaler, LabelEncoder, OneHotEncoder\n",
    "from sklearn.linear_model import LogisticRegression, LogisticRegressionCV\n",
    "from sklearn.model_selection import train_test_split, GridSearchCV, validation_curve\n",
    "from sklearn.metrics import make_scorer\n",
    "from scipy.sparse import csr_matrix, hstack, vstack\n",
    "import xgboost as xgb\n",
    "from xgboost import XGBClassifier\n",
    "import pickle\n",
    "from sklearn.model_selection import learning_curve\n",
    "\n",
    "%matplotlib inline\n",
    "# figure size in inches\n",
    "import warnings\n",
    "warnings.filterwarnings(module='sklearn*', action='ignore', category=DeprecationWarning)\n",
    "plt.rcParams['figure.figsize'] = 16,9"
   ]
  },
  {
   "cell_type": "code",
   "execution_count": 2,
   "metadata": {},
   "outputs": [],
   "source": [
    "def create_submission(predict, id_vals, enc, filename):\n",
    "    # Для каждого ID пользователя отбираем 5 классов с максимальной предсказанной вероятностью\n",
    "    ids = []  # спикок ID пользователей\n",
    "    cts = []  # список стран\n",
    "    for i in range(len(id_vals)):\n",
    "        idx = id_vals[i]\n",
    "        ids += [idx] * 5\n",
    "        cts += enc.inverse_transform(np.argsort(predict[i])[::-1])[:5].tolist()\n",
    "    #Generate submission\n",
    "    sub = pd.DataFrame(np.column_stack((ids, cts)), columns=['id', 'country'])\n",
    "    sub.to_csv(filename, index=False) "
   ]
  },
  {
   "cell_type": "code",
   "execution_count": 3,
   "metadata": {},
   "outputs": [],
   "source": [
    "# Реализация вычисления целевой метрики NDCG\n",
    "def my_ndcg(y_true, y_predict, k=5):\n",
    "    ndcg = 0\n",
    "    n = 0\n",
    "    for y_true_val, y_predict_vec in zip(y_true, y_predict):\n",
    "        #print(y_true_val, y_predict_vec)\n",
    "        order = np.argsort(y_predict_vec)[::-1][:k]\n",
    "        #print(order)\n",
    "        for idx, y_predict_val in enumerate(order):\n",
    "            if y_true_val == y_predict_val:\n",
    "                #print(1 / np.log2(idx + 2))\n",
    "                ndcg += 1 / np.log2(idx + 2)\n",
    "                break\n",
    "        n += 1\n",
    "    #print(ndcg)\n",
    "    return ndcg / n"
   ]
  },
  {
   "cell_type": "code",
   "execution_count": 4,
   "metadata": {},
   "outputs": [],
   "source": [
    "ndcg_scorer = make_scorer(my_ndcg, needs_proba=True, k=5)"
   ]
  },
  {
   "cell_type": "markdown",
   "metadata": {},
   "source": [
    "###  Часть 1. Описание набора данных и признаков"
   ]
  },
  {
   "cell_type": "markdown",
   "metadata": {},
   "source": [
    "#### Введение"
   ]
  },
  {
   "cell_type": "markdown",
   "metadata": {},
   "source": [
    "AirBnB - это онлайн-площадка для размещения, поиска и краткосрочной аренды частного жилья по всему миру. Пользователи Airbnb имеют возможность сдавать путешественникам в аренду своё жильё целиком или частично. Сайт предоставляет платформу для установления контакта между хозяином и гостем, а также отвечает за обработку транзакций."
   ]
  },
  {
   "cell_type": "markdown",
   "metadata": {},
   "source": [
    "Данный индивидуальный проект посвящен задаче прогнозирования страны первого бронирования жилья для новых пользователей AirBnb (*задача многоклассовой классификации*). Ценность этой задачи для бизнеса состоит в том, что правильное прогнозирование места первого бронирования позволит делать пользователям персонализированные предложения (баннеры на сайте, рассылка по почте). Это в свою очередь должно снизить среднее время от регистрации нового пользователя до первого бронирования, что повысит конверсию пользователей и благотворно скажется на финансовом результате компании."
   ]
  },
  {
   "cell_type": "markdown",
   "metadata": {},
   "source": [
    "#### Описание набора данных и признаков"
   ]
  },
  {
   "cell_type": "markdown",
   "metadata": {},
   "source": [
    "Набор данных получен из Kaggle ([Airbnb New User Bookings](https://www.kaggle.com/c/airbnb-recruiting-new-user-bookings/data)) и включает несколько файлов с данными о пользователях (вкл. социально-демографические данные) и пользовательских веб-сессиях:\n",
    "* *train_users.csv* - обучающая выборка данных о пользователях.\n",
    "\n",
    "|               Переменная | Описание |\n",
    "|--------------------------|----------|\n",
    "|                       id | ID пользователя |\n",
    "|     date_account_created | Дата создания аккаунта на airbnb |\n",
    "|   timestamp_first_active | Дата и время первой активности на сайте airbnb.com |\n",
    "|       date_first_booking | Дата первого бронирования |\n",
    "|                   gender | Пол |\n",
    "|                      age | Возраст |\n",
    "|            signup_method | Способ регистрации (базовый, профиль facebook или google) |\n",
    "|              signup_flow | Страница, с которой пользователь перешел для регистрации |\n",
    "|                 language | Предпочитаемый язык |\n",
    "|        affiliate_channel | Тип рекламы |\n",
    "|       affiliate_provider | Провайдер рекламы |\n",
    "|  first_affiliate_tracked | Первый тип рекламы, с которым взаимодействовал пользователь перед регистрацией |\n",
    "|               signup_app | Приложение, с которого была регистрация |\n",
    "|        first_device_type | Тип первого девайса пользователя |\n",
    "|            first_browser | Первый браузер пользователя |\n",
    "|  **country_destination** | **Целевая переменная** - страна первого бронирования |\n",
    "\n",
    "* *test_users.csv* - тестовая выборка данных о пользователях. Структура аналогична train_users.csv за исключением отсутсвия целевой переменной country_destination.\n",
    "\n",
    "* *sessions.csv* - данные о web-сессиях пользователей (клики, обновление wish-листов, поиск и др.). Будет использоваться для обогащения основных признаков по пользоватлям.\n",
    "\n",
    "|               Переменная |          Описание |\n",
    "|--------------------------|-------------------|\n",
    "|                       id |   ID пользователя |\n",
    "|                   action | Действие на сайте |\n",
    "|              action_type | Тип действия |\n",
    "|            action_detail | Детализация действия |\n",
    "|            device_type | Тип девайса |\n",
    "|            secs_elapsed | Длительность действия |\n"
   ]
  },
  {
   "cell_type": "markdown",
   "metadata": {},
   "source": [
    "#### Общие замечания по исходным данным"
   ]
  },
  {
   "cell_type": "markdown",
   "metadata": {},
   "source": [
    "* Все пользователи в предоставленных данных из США.\n",
    "* Имеются 12 возможных значений целевой переменной - страны первого бронирования: US (США), FR (Франция), CA (Канада), GB (Великобритания), ES (Испания), IT (Италия), PT (Португалия), NL (Нидерланды), DE (Германия), AU (Австралия), NDF (no destination found), and 'other' (другое).\n",
    "* 'other' (другое) - означает, что пользователь сделал бронирование, но страна бронирования не входит в приведенный выше список. А 'NDF' означает, что первого бронирования не было.\n",
    "* Тестовые и обучающие наборы данных не пересекаются по датам. В тестовом наборе данных нужно спрогнозироать страну первого бронирования для пользователей, у которых первые активности на airbnb (регистрация, поиск, клики) состоялись после 01.07.2014."
   ]
  },
  {
   "cell_type": "markdown",
   "metadata": {},
   "source": [
    "###  Часть 2. Первичный анализ признаков"
   ]
  },
  {
   "cell_type": "markdown",
   "metadata": {},
   "source": [
    "#### Загружаем исходные данные"
   ]
  },
  {
   "cell_type": "code",
   "execution_count": 5,
   "metadata": {},
   "outputs": [],
   "source": [
    "df_train = pd.read_csv('../data/train_users_2.csv')\n",
    "df_test = pd.read_csv('../data/test_users.csv')"
   ]
  },
  {
   "cell_type": "code",
   "execution_count": 6,
   "metadata": {},
   "outputs": [
    {
     "data": {
      "text/plain": [
       "((213451, 16), (62096, 15))"
      ]
     },
     "execution_count": 6,
     "metadata": {},
     "output_type": "execute_result"
    }
   ],
   "source": [
    "df_train.shape, df_test.shape"
   ]
  },
  {
   "cell_type": "markdown",
   "metadata": {},
   "source": [
    "Итак, у нас имеются данные по *213451* пользователям в обучающей выборке и *62096* пользователям в тестовой."
   ]
  },
  {
   "cell_type": "markdown",
   "metadata": {},
   "source": [
    "#### Первичный осмотр данных"
   ]
  },
  {
   "cell_type": "code",
   "execution_count": 7,
   "metadata": {},
   "outputs": [
    {
     "data": {
      "text/html": [
       "<div>\n",
       "<style scoped>\n",
       "    .dataframe tbody tr th:only-of-type {\n",
       "        vertical-align: middle;\n",
       "    }\n",
       "\n",
       "    .dataframe tbody tr th {\n",
       "        vertical-align: top;\n",
       "    }\n",
       "\n",
       "    .dataframe thead th {\n",
       "        text-align: right;\n",
       "    }\n",
       "</style>\n",
       "<table border=\"1\" class=\"dataframe\">\n",
       "  <thead>\n",
       "    <tr style=\"text-align: right;\">\n",
       "      <th></th>\n",
       "      <th>id</th>\n",
       "      <th>date_account_created</th>\n",
       "      <th>timestamp_first_active</th>\n",
       "      <th>date_first_booking</th>\n",
       "      <th>gender</th>\n",
       "      <th>age</th>\n",
       "      <th>signup_method</th>\n",
       "      <th>signup_flow</th>\n",
       "      <th>language</th>\n",
       "      <th>affiliate_channel</th>\n",
       "      <th>affiliate_provider</th>\n",
       "      <th>first_affiliate_tracked</th>\n",
       "      <th>signup_app</th>\n",
       "      <th>first_device_type</th>\n",
       "      <th>first_browser</th>\n",
       "      <th>country_destination</th>\n",
       "    </tr>\n",
       "  </thead>\n",
       "  <tbody>\n",
       "    <tr>\n",
       "      <th>0</th>\n",
       "      <td>gxn3p5htnn</td>\n",
       "      <td>2010-06-28</td>\n",
       "      <td>20090319043255</td>\n",
       "      <td>NaN</td>\n",
       "      <td>-unknown-</td>\n",
       "      <td>NaN</td>\n",
       "      <td>facebook</td>\n",
       "      <td>0</td>\n",
       "      <td>en</td>\n",
       "      <td>direct</td>\n",
       "      <td>direct</td>\n",
       "      <td>untracked</td>\n",
       "      <td>Web</td>\n",
       "      <td>Mac Desktop</td>\n",
       "      <td>Chrome</td>\n",
       "      <td>NDF</td>\n",
       "    </tr>\n",
       "    <tr>\n",
       "      <th>1</th>\n",
       "      <td>820tgsjxq7</td>\n",
       "      <td>2011-05-25</td>\n",
       "      <td>20090523174809</td>\n",
       "      <td>NaN</td>\n",
       "      <td>MALE</td>\n",
       "      <td>38.0</td>\n",
       "      <td>facebook</td>\n",
       "      <td>0</td>\n",
       "      <td>en</td>\n",
       "      <td>seo</td>\n",
       "      <td>google</td>\n",
       "      <td>untracked</td>\n",
       "      <td>Web</td>\n",
       "      <td>Mac Desktop</td>\n",
       "      <td>Chrome</td>\n",
       "      <td>NDF</td>\n",
       "    </tr>\n",
       "    <tr>\n",
       "      <th>2</th>\n",
       "      <td>4ft3gnwmtx</td>\n",
       "      <td>2010-09-28</td>\n",
       "      <td>20090609231247</td>\n",
       "      <td>2010-08-02</td>\n",
       "      <td>FEMALE</td>\n",
       "      <td>56.0</td>\n",
       "      <td>basic</td>\n",
       "      <td>3</td>\n",
       "      <td>en</td>\n",
       "      <td>direct</td>\n",
       "      <td>direct</td>\n",
       "      <td>untracked</td>\n",
       "      <td>Web</td>\n",
       "      <td>Windows Desktop</td>\n",
       "      <td>IE</td>\n",
       "      <td>US</td>\n",
       "    </tr>\n",
       "    <tr>\n",
       "      <th>3</th>\n",
       "      <td>bjjt8pjhuk</td>\n",
       "      <td>2011-12-05</td>\n",
       "      <td>20091031060129</td>\n",
       "      <td>2012-09-08</td>\n",
       "      <td>FEMALE</td>\n",
       "      <td>42.0</td>\n",
       "      <td>facebook</td>\n",
       "      <td>0</td>\n",
       "      <td>en</td>\n",
       "      <td>direct</td>\n",
       "      <td>direct</td>\n",
       "      <td>untracked</td>\n",
       "      <td>Web</td>\n",
       "      <td>Mac Desktop</td>\n",
       "      <td>Firefox</td>\n",
       "      <td>other</td>\n",
       "    </tr>\n",
       "    <tr>\n",
       "      <th>4</th>\n",
       "      <td>87mebub9p4</td>\n",
       "      <td>2010-09-14</td>\n",
       "      <td>20091208061105</td>\n",
       "      <td>2010-02-18</td>\n",
       "      <td>-unknown-</td>\n",
       "      <td>41.0</td>\n",
       "      <td>basic</td>\n",
       "      <td>0</td>\n",
       "      <td>en</td>\n",
       "      <td>direct</td>\n",
       "      <td>direct</td>\n",
       "      <td>untracked</td>\n",
       "      <td>Web</td>\n",
       "      <td>Mac Desktop</td>\n",
       "      <td>Chrome</td>\n",
       "      <td>US</td>\n",
       "    </tr>\n",
       "  </tbody>\n",
       "</table>\n",
       "</div>"
      ],
      "text/plain": [
       "           id date_account_created  timestamp_first_active date_first_booking  \\\n",
       "0  gxn3p5htnn           2010-06-28          20090319043255                NaN   \n",
       "1  820tgsjxq7           2011-05-25          20090523174809                NaN   \n",
       "2  4ft3gnwmtx           2010-09-28          20090609231247         2010-08-02   \n",
       "3  bjjt8pjhuk           2011-12-05          20091031060129         2012-09-08   \n",
       "4  87mebub9p4           2010-09-14          20091208061105         2010-02-18   \n",
       "\n",
       "      gender   age signup_method  signup_flow language affiliate_channel  \\\n",
       "0  -unknown-   NaN      facebook            0       en            direct   \n",
       "1       MALE  38.0      facebook            0       en               seo   \n",
       "2     FEMALE  56.0         basic            3       en            direct   \n",
       "3     FEMALE  42.0      facebook            0       en            direct   \n",
       "4  -unknown-  41.0         basic            0       en            direct   \n",
       "\n",
       "  affiliate_provider first_affiliate_tracked signup_app first_device_type  \\\n",
       "0             direct               untracked        Web       Mac Desktop   \n",
       "1             google               untracked        Web       Mac Desktop   \n",
       "2             direct               untracked        Web   Windows Desktop   \n",
       "3             direct               untracked        Web       Mac Desktop   \n",
       "4             direct               untracked        Web       Mac Desktop   \n",
       "\n",
       "  first_browser country_destination  \n",
       "0        Chrome                 NDF  \n",
       "1        Chrome                 NDF  \n",
       "2            IE                  US  \n",
       "3       Firefox               other  \n",
       "4        Chrome                  US  "
      ]
     },
     "execution_count": 7,
     "metadata": {},
     "output_type": "execute_result"
    }
   ],
   "source": [
    "df_train.head()"
   ]
  },
  {
   "cell_type": "code",
   "execution_count": 8,
   "metadata": {},
   "outputs": [
    {
     "data": {
      "text/html": [
       "<div>\n",
       "<style scoped>\n",
       "    .dataframe tbody tr th:only-of-type {\n",
       "        vertical-align: middle;\n",
       "    }\n",
       "\n",
       "    .dataframe tbody tr th {\n",
       "        vertical-align: top;\n",
       "    }\n",
       "\n",
       "    .dataframe thead th {\n",
       "        text-align: right;\n",
       "    }\n",
       "</style>\n",
       "<table border=\"1\" class=\"dataframe\">\n",
       "  <thead>\n",
       "    <tr style=\"text-align: right;\">\n",
       "      <th></th>\n",
       "      <th>id</th>\n",
       "      <th>date_account_created</th>\n",
       "      <th>timestamp_first_active</th>\n",
       "      <th>date_first_booking</th>\n",
       "      <th>gender</th>\n",
       "      <th>age</th>\n",
       "      <th>signup_method</th>\n",
       "      <th>signup_flow</th>\n",
       "      <th>language</th>\n",
       "      <th>affiliate_channel</th>\n",
       "      <th>affiliate_provider</th>\n",
       "      <th>first_affiliate_tracked</th>\n",
       "      <th>signup_app</th>\n",
       "      <th>first_device_type</th>\n",
       "      <th>first_browser</th>\n",
       "    </tr>\n",
       "  </thead>\n",
       "  <tbody>\n",
       "    <tr>\n",
       "      <th>0</th>\n",
       "      <td>5uwns89zht</td>\n",
       "      <td>2014-07-01</td>\n",
       "      <td>20140701000006</td>\n",
       "      <td>NaN</td>\n",
       "      <td>FEMALE</td>\n",
       "      <td>35.0</td>\n",
       "      <td>facebook</td>\n",
       "      <td>0</td>\n",
       "      <td>en</td>\n",
       "      <td>direct</td>\n",
       "      <td>direct</td>\n",
       "      <td>untracked</td>\n",
       "      <td>Moweb</td>\n",
       "      <td>iPhone</td>\n",
       "      <td>Mobile Safari</td>\n",
       "    </tr>\n",
       "    <tr>\n",
       "      <th>1</th>\n",
       "      <td>jtl0dijy2j</td>\n",
       "      <td>2014-07-01</td>\n",
       "      <td>20140701000051</td>\n",
       "      <td>NaN</td>\n",
       "      <td>-unknown-</td>\n",
       "      <td>NaN</td>\n",
       "      <td>basic</td>\n",
       "      <td>0</td>\n",
       "      <td>en</td>\n",
       "      <td>direct</td>\n",
       "      <td>direct</td>\n",
       "      <td>untracked</td>\n",
       "      <td>Moweb</td>\n",
       "      <td>iPhone</td>\n",
       "      <td>Mobile Safari</td>\n",
       "    </tr>\n",
       "    <tr>\n",
       "      <th>2</th>\n",
       "      <td>xx0ulgorjt</td>\n",
       "      <td>2014-07-01</td>\n",
       "      <td>20140701000148</td>\n",
       "      <td>NaN</td>\n",
       "      <td>-unknown-</td>\n",
       "      <td>NaN</td>\n",
       "      <td>basic</td>\n",
       "      <td>0</td>\n",
       "      <td>en</td>\n",
       "      <td>direct</td>\n",
       "      <td>direct</td>\n",
       "      <td>linked</td>\n",
       "      <td>Web</td>\n",
       "      <td>Windows Desktop</td>\n",
       "      <td>Chrome</td>\n",
       "    </tr>\n",
       "    <tr>\n",
       "      <th>3</th>\n",
       "      <td>6c6puo6ix0</td>\n",
       "      <td>2014-07-01</td>\n",
       "      <td>20140701000215</td>\n",
       "      <td>NaN</td>\n",
       "      <td>-unknown-</td>\n",
       "      <td>NaN</td>\n",
       "      <td>basic</td>\n",
       "      <td>0</td>\n",
       "      <td>en</td>\n",
       "      <td>direct</td>\n",
       "      <td>direct</td>\n",
       "      <td>linked</td>\n",
       "      <td>Web</td>\n",
       "      <td>Windows Desktop</td>\n",
       "      <td>IE</td>\n",
       "    </tr>\n",
       "    <tr>\n",
       "      <th>4</th>\n",
       "      <td>czqhjk3yfe</td>\n",
       "      <td>2014-07-01</td>\n",
       "      <td>20140701000305</td>\n",
       "      <td>NaN</td>\n",
       "      <td>-unknown-</td>\n",
       "      <td>NaN</td>\n",
       "      <td>basic</td>\n",
       "      <td>0</td>\n",
       "      <td>en</td>\n",
       "      <td>direct</td>\n",
       "      <td>direct</td>\n",
       "      <td>untracked</td>\n",
       "      <td>Web</td>\n",
       "      <td>Mac Desktop</td>\n",
       "      <td>Safari</td>\n",
       "    </tr>\n",
       "  </tbody>\n",
       "</table>\n",
       "</div>"
      ],
      "text/plain": [
       "           id date_account_created  timestamp_first_active  \\\n",
       "0  5uwns89zht           2014-07-01          20140701000006   \n",
       "1  jtl0dijy2j           2014-07-01          20140701000051   \n",
       "2  xx0ulgorjt           2014-07-01          20140701000148   \n",
       "3  6c6puo6ix0           2014-07-01          20140701000215   \n",
       "4  czqhjk3yfe           2014-07-01          20140701000305   \n",
       "\n",
       "   date_first_booking     gender   age signup_method  signup_flow language  \\\n",
       "0                 NaN     FEMALE  35.0      facebook            0       en   \n",
       "1                 NaN  -unknown-   NaN         basic            0       en   \n",
       "2                 NaN  -unknown-   NaN         basic            0       en   \n",
       "3                 NaN  -unknown-   NaN         basic            0       en   \n",
       "4                 NaN  -unknown-   NaN         basic            0       en   \n",
       "\n",
       "  affiliate_channel affiliate_provider first_affiliate_tracked signup_app  \\\n",
       "0            direct             direct               untracked      Moweb   \n",
       "1            direct             direct               untracked      Moweb   \n",
       "2            direct             direct                  linked        Web   \n",
       "3            direct             direct                  linked        Web   \n",
       "4            direct             direct               untracked        Web   \n",
       "\n",
       "  first_device_type  first_browser  \n",
       "0            iPhone  Mobile Safari  \n",
       "1            iPhone  Mobile Safari  \n",
       "2   Windows Desktop         Chrome  \n",
       "3   Windows Desktop             IE  \n",
       "4       Mac Desktop         Safari  "
      ]
     },
     "execution_count": 8,
     "metadata": {},
     "output_type": "execute_result"
    }
   ],
   "source": [
    "df_test.head()"
   ]
  },
  {
   "cell_type": "markdown",
   "metadata": {},
   "source": [
    "Выводы по первичному осмотру данных:\n",
    "* По крайней мере в двух признаках (date_first_booking и age) есть пропуски. Далее мы исследуем этот вопрос подробнее.\n",
    "* В наборе данных очень много категориальных признаков. Соответственно, далее их нужно будет преобразовывать.\n",
    "* Признак timestamp_first_active нужно преобразовать к нормальному типу timestamp."
   ]
  },
  {
   "cell_type": "code",
   "execution_count": 9,
   "metadata": {},
   "outputs": [],
   "source": [
    "# Создадим объединенный набор данных - будет полезно для некоторых дальнейших исследований\n",
    "df_all = pd.concat([df_train, df_test], axis=0, ignore_index=True)\n",
    "# Удалим из объединенного датасета ID пользователя - он пока не нужен\n",
    "df_all.drop('id', axis=1, inplace=True)"
   ]
  },
  {
   "cell_type": "code",
   "execution_count": 10,
   "metadata": {},
   "outputs": [
    {
     "name": "stdout",
     "output_type": "stream",
     "text": [
      "<class 'pandas.core.frame.DataFrame'>\n",
      "RangeIndex: 275547 entries, 0 to 275546\n",
      "Data columns (total 15 columns):\n",
      "affiliate_channel          275547 non-null object\n",
      "affiliate_provider         275547 non-null object\n",
      "age                        158681 non-null float64\n",
      "country_destination        213451 non-null object\n",
      "date_account_created       275547 non-null object\n",
      "date_first_booking         88908 non-null object\n",
      "first_affiliate_tracked    269462 non-null object\n",
      "first_browser              275547 non-null object\n",
      "first_device_type          275547 non-null object\n",
      "gender                     275547 non-null object\n",
      "language                   275547 non-null object\n",
      "signup_app                 275547 non-null object\n",
      "signup_flow                275547 non-null int64\n",
      "signup_method              275547 non-null object\n",
      "timestamp_first_active     275547 non-null int64\n",
      "dtypes: float64(1), int64(2), object(12)\n",
      "memory usage: 31.5+ MB\n"
     ]
    }
   ],
   "source": [
    "df_all.info()"
   ]
  },
  {
   "cell_type": "markdown",
   "metadata": {},
   "source": [
    "#### Профилирование категориальных переменных"
   ]
  },
  {
   "cell_type": "markdown",
   "metadata": {},
   "source": [
    "В нашем наборе данных много категориальных переменных. Давайте исследуем распределение их значений."
   ]
  },
  {
   "cell_type": "code",
   "execution_count": 11,
   "metadata": {},
   "outputs": [],
   "source": [
    "categorical_features = [\n",
    "    'affiliate_channel',\n",
    "    'affiliate_provider',\n",
    "    'country_destination',\n",
    "    'first_affiliate_tracked',\n",
    "    'first_browser',\n",
    "    'first_device_type',\n",
    "    'gender',\n",
    "    'language',\n",
    "    'signup_app',\n",
    "    'signup_method'\n",
    "]\n",
    "\n",
    "for categorical_feature in categorical_features:\n",
    "    df_all[categorical_feature] = df_all[categorical_feature].astype('category')"
   ]
  },
  {
   "cell_type": "code",
   "execution_count": 12,
   "metadata": {
    "scrolled": false
   },
   "outputs": [
    {
     "name": "stdout",
     "output_type": "stream",
     "text": [
      "*****************************\n",
      "Profile for affiliate_channel\n",
      "*****************************\n",
      "direct           181571\n",
      "sem-brand         36439\n",
      "sem-non-brand     20075\n",
      "seo               14362\n",
      "other              9547\n",
      "api                8167\n",
      "content            4118\n",
      "remarketing        1268\n",
      "Name: affiliate_channel, dtype: int64\n",
      "\n",
      "\n",
      "******************************\n",
      "Profile for affiliate_provider\n",
      "******************************\n",
      "direct                 181270\n",
      "google                  65956\n",
      "other                   13036\n",
      "facebook                 3996\n",
      "bing                     3719\n",
      "craigslist               3475\n",
      "padmapper                 836\n",
      "vast                      830\n",
      "yahoo                     653\n",
      "facebook-open-graph       566\n",
      "gsp                       455\n",
      "meetup                    358\n",
      "email-marketing           270\n",
      "naver                      66\n",
      "baidu                      32\n",
      "yandex                     18\n",
      "wayn                        8\n",
      "daum                        3\n",
      "Name: affiliate_provider, dtype: int64\n",
      "\n",
      "\n",
      "*******************************\n",
      "Profile for country_destination\n",
      "*******************************\n",
      "NDF      124543\n",
      "US        62376\n",
      "other     10094\n",
      "FR         5023\n",
      "IT         2835\n",
      "GB         2324\n",
      "ES         2249\n",
      "CA         1428\n",
      "DE         1061\n",
      "NL          762\n",
      "AU          539\n",
      "PT          217\n",
      "Name: country_destination, dtype: int64\n",
      "\n",
      "\n",
      "***********************************\n",
      "Profile for first_affiliate_tracked\n",
      "***********************************\n",
      "untracked        143181\n",
      "linked            62064\n",
      "omg               54859\n",
      "tracked-other      6655\n",
      "product            2353\n",
      "marketing           281\n",
      "local ops            69\n",
      "Name: first_affiliate_tracked, dtype: int64\n",
      "\n",
      "\n",
      "*************************\n",
      "Profile for first_browser\n",
      "*************************\n",
      "Chrome                  78671\n",
      "Safari                  53302\n",
      "-unknown-               44394\n",
      "Firefox                 38665\n",
      "Mobile Safari           29636\n",
      "IE                      24744\n",
      "Chrome Mobile            3186\n",
      "Android Browser          1577\n",
      "AOL Explorer              254\n",
      "Opera                     228\n",
      "Silk                      172\n",
      "IE Mobile                 118\n",
      "BlackBerry Browser         89\n",
      "Chromium                   83\n",
      "Mobile Firefox             64\n",
      "Maxthon                    60\n",
      "Apple Mail                 45\n",
      "Sogou Explorer             43\n",
      "SiteKiosk                  27\n",
      "Iron                       24\n",
      "RockMelt                   24\n",
      "IceWeasel                  14\n",
      "Yandex.Browser             14\n",
      "Pale Moon                  13\n",
      "CometBird                  12\n",
      "SeaMonkey                  12\n",
      "Camino                      9\n",
      "Opera Mini                  8\n",
      "TenFourFox                  8\n",
      "wOSBrowser                  7\n",
      "CoolNovo                    6\n",
      "Avant Browser               4\n",
      "Opera Mobile                4\n",
      "Mozilla                     3\n",
      "Comodo Dragon               2\n",
      "TheWorld Browser            2\n",
      "Flock                       2\n",
      "SlimBrowser                 2\n",
      "Crazy Browser               2\n",
      "OmniWeb                     2\n",
      "PS Vita browser             1\n",
      "UC Browser                  1\n",
      "Stainless                   1\n",
      "Arora                       1\n",
      "Palm Pre web browser        1\n",
      "IceDragon                   1\n",
      "Outlook 2007                1\n",
      "Conkeror                    1\n",
      "Epic                        1\n",
      "Nintendo Browser            1\n",
      "Google Earth                1\n",
      "Googlebot                   1\n",
      "IBrowse                     1\n",
      "NetNewsWire                 1\n",
      "Kindle Browser              1\n",
      "Name: first_browser, dtype: int64\n",
      "\n",
      "\n",
      "*****************************\n",
      "Profile for first_device_type\n",
      "*****************************\n",
      "Mac Desktop           106328\n",
      "Windows Desktop        86948\n",
      "iPhone                 39814\n",
      "iPad                   18036\n",
      "Other/Unknown          11167\n",
      "Android Phone           9458\n",
      "Android Tablet          2098\n",
      "Desktop (Other)         1507\n",
      "SmartPhone (Other)       191\n",
      "Name: first_device_type, dtype: int64\n",
      "\n",
      "\n",
      "******************\n",
      "Profile for gender\n",
      "******************\n",
      "-unknown-    129480\n",
      "FEMALE        77524\n",
      "MALE          68209\n",
      "OTHER           334\n",
      "Name: gender, dtype: int64\n",
      "\n",
      "\n",
      "********************\n",
      "Profile for language\n",
      "********************\n",
      "en           265538\n",
      "zh             2634\n",
      "fr             1508\n",
      "es             1174\n",
      "ko             1116\n",
      "de              977\n",
      "it              633\n",
      "ru              508\n",
      "ja              345\n",
      "pt              322\n",
      "sv              176\n",
      "nl              134\n",
      "tr               92\n",
      "da               75\n",
      "pl               75\n",
      "no               51\n",
      "cs               49\n",
      "el               30\n",
      "th               28\n",
      "hu               25\n",
      "id               23\n",
      "fi               20\n",
      "ca                6\n",
      "is                5\n",
      "hr                2\n",
      "-unknown-         1\n",
      "Name: language, dtype: int64\n",
      "\n",
      "\n",
      "**********************\n",
      "Profile for signup_app\n",
      "**********************\n",
      "Web        219918\n",
      "iOS         34593\n",
      "Android     10519\n",
      "Moweb       10517\n",
      "Name: signup_app, dtype: int64\n",
      "\n",
      "\n",
      "*************************\n",
      "Profile for signup_method\n",
      "*************************\n",
      "basic       198222\n",
      "facebook     74864\n",
      "google        2438\n",
      "weibo           23\n",
      "Name: signup_method, dtype: int64\n",
      "\n",
      "\n"
     ]
    }
   ],
   "source": [
    "for cat_feat in categorical_features:\n",
    "    heading = \"Profile for {}\".format(cat_feat)\n",
    "    print(\"*\" * len(heading))\n",
    "    print(heading)\n",
    "    print(\"*\" * len(heading))\n",
    "    print(df_all[cat_feat].value_counts())\n",
    "    print(\"\\n\")"
   ]
  },
  {
   "cell_type": "markdown",
   "metadata": {},
   "source": [
    "Замечания по результатам профилирования категориальных признаков:\n",
    "* В некоторых признаках встречаются значения -unknown- - это очевидно пропущенные значению. Нужно принять это во внимание при очистке данных.\n",
    "* Распределение целевой переменной говорит о том, что подавляющее большинство пользователей (по факту 90%) попадает в две категории - они либо еще не сделали бронирование, либо сделали первое бронирование в США. На это стоит обратить внимание при моделировании, т.к. сильно обобщенная модель может выдавать только два прогноза - NDF и USA."
   ]
  },
  {
   "cell_type": "markdown",
   "metadata": {},
   "source": [
    "#### Переменная возраст (Age)"
   ]
  },
  {
   "cell_type": "code",
   "execution_count": 13,
   "metadata": {},
   "outputs": [
    {
     "data": {
      "text/plain": [
       "count    158681.000000\n",
       "mean         47.145310\n",
       "std         142.629468\n",
       "min           1.000000\n",
       "25%          28.000000\n",
       "50%          33.000000\n",
       "75%          42.000000\n",
       "max        2014.000000\n",
       "Name: age, dtype: float64"
      ]
     },
     "execution_count": 13,
     "metadata": {},
     "output_type": "execute_result"
    }
   ],
   "source": [
    "df_all.age.describe()"
   ]
  },
  {
   "cell_type": "code",
   "execution_count": 14,
   "metadata": {},
   "outputs": [
    {
     "data": {
      "text/plain": [
       "1.0"
      ]
     },
     "execution_count": 14,
     "metadata": {},
     "output_type": "execute_result"
    }
   ],
   "source": [
    "df_all.age.min()"
   ]
  },
  {
   "cell_type": "code",
   "execution_count": 15,
   "metadata": {},
   "outputs": [
    {
     "data": {
      "text/plain": [
       "2014.0"
      ]
     },
     "execution_count": 15,
     "metadata": {},
     "output_type": "execute_result"
    }
   ],
   "source": [
    "df_all.age.max()"
   ]
  },
  {
   "cell_type": "code",
   "execution_count": 16,
   "metadata": {},
   "outputs": [
    {
     "data": {
      "text/plain": [
       "30.0      7712\n",
       "28.0      7687\n",
       "29.0      7647\n",
       "31.0      7540\n",
       "27.0      7462\n",
       "32.0      7187\n",
       "33.0      6795\n",
       "26.0      6745\n",
       "34.0      6176\n",
       "25.0      6149\n",
       "35.0      5949\n",
       "36.0      5032\n",
       "24.0      4571\n",
       "37.0      4474\n",
       "38.0      4091\n",
       "39.0      3642\n",
       "23.0      3516\n",
       "40.0      3327\n",
       "41.0      3098\n",
       "42.0      2731\n",
       "45.0      2669\n",
       "44.0      2584\n",
       "22.0      2508\n",
       "43.0      2486\n",
       "46.0      2317\n",
       "19.0      2023\n",
       "47.0      2006\n",
       "48.0      1779\n",
       "50.0      1679\n",
       "51.0      1630\n",
       "          ... \n",
       "1949.0       3\n",
       "1936.0       2\n",
       "1920.0       2\n",
       "111.0        2\n",
       "1938.0       2\n",
       "1929.0       2\n",
       "1923.0       2\n",
       "1926.0       2\n",
       "1944.0       2\n",
       "1951.0       2\n",
       "1940.0       2\n",
       "1942.0       1\n",
       "2002.0       1\n",
       "150.0        1\n",
       "1952.0       1\n",
       "1945.0       1\n",
       "2008.0       1\n",
       "1939.0       1\n",
       "2000.0       1\n",
       "1995.0       1\n",
       "1948.0       1\n",
       "1968.0       1\n",
       "1930.0       1\n",
       "1941.0       1\n",
       "1922.0       1\n",
       "1954.0       1\n",
       "1953.0       1\n",
       "132.0        1\n",
       "1937.0       1\n",
       "112.0        1\n",
       "Name: age, Length: 145, dtype: int64"
      ]
     },
     "execution_count": 16,
     "metadata": {},
     "output_type": "execute_result"
    }
   ],
   "source": [
    "df_all.age.value_counts()"
   ]
  },
  {
   "cell_type": "markdown",
   "metadata": {},
   "source": [
    "Мы видим, что в переменной age встречаются странные значения - больше 120 и меньше 10."
   ]
  },
  {
   "cell_type": "code",
   "execution_count": 17,
   "metadata": {},
   "outputs": [
    {
     "data": {
      "text/plain": [
       "830"
      ]
     },
     "execution_count": 17,
     "metadata": {},
     "output_type": "execute_result"
    }
   ],
   "source": [
    "sum(df_all.age > 120)"
   ]
  },
  {
   "cell_type": "code",
   "execution_count": 18,
   "metadata": {},
   "outputs": [
    {
     "data": {
      "text/plain": [
       "59"
      ]
     },
     "execution_count": 18,
     "metadata": {},
     "output_type": "execute_result"
    }
   ],
   "source": [
    "sum(df_all.age < 10)"
   ]
  },
  {
   "cell_type": "markdown",
   "metadata": {},
   "source": [
    "На этапе предобработки такие данные потребуют особого внимания."
   ]
  },
  {
   "cell_type": "markdown",
   "metadata": {},
   "source": [
    "#### Пропущенные значения"
   ]
  },
  {
   "cell_type": "markdown",
   "metadata": {},
   "source": [
    "Для более объективной картины по пропущенным значениям заменим значения '-unknown-' в некоторых категориальных признаках на стандартное неопределенное значение np.nan."
   ]
  },
  {
   "cell_type": "code",
   "execution_count": 19,
   "metadata": {},
   "outputs": [],
   "source": [
    "df_all.gender.replace('-unknown-', np.nan, inplace=True)\n",
    "df_train.gender.replace('-unknown-', np.nan, inplace=True)\n",
    "df_test.gender.replace('-unknown-', np.nan, inplace=True)\n",
    "\n",
    "df_all.language.replace('-unknown-', np.nan, inplace=True)\n",
    "df_train.language.replace('-unknown-', np.nan, inplace=True)\n",
    "df_test.language.replace('-unknown-', np.nan, inplace=True)\n",
    "\n",
    "df_all.first_browser.replace('-unknown-', np.nan, inplace=True)\n",
    "df_train.first_browser.replace('-unknown-', np.nan, inplace=True)\n",
    "df_test.first_browser.replace('-unknown-', np.nan, inplace=True)"
   ]
  },
  {
   "cell_type": "markdown",
   "metadata": {},
   "source": [
    "Проведем исследование пропущенных значений отдельно для обучающей и тестовой выборки."
   ]
  },
  {
   "cell_type": "code",
   "execution_count": 20,
   "metadata": {},
   "outputs": [
    {
     "data": {
      "text/plain": [
       "date_first_booking         0.583473\n",
       "gender                     0.448290\n",
       "age                        0.412226\n",
       "first_affiliate_tracked    0.028414\n",
       "first_browser              0.127739\n",
       "dtype: float64"
      ]
     },
     "execution_count": 20,
     "metadata": {},
     "output_type": "execute_result"
    }
   ],
   "source": [
    "df_train_missing = df_train.isnull().sum() / df_train.shape[0]\n",
    "df_train_missing[df_train_missing > 0]"
   ]
  },
  {
   "cell_type": "code",
   "execution_count": 21,
   "metadata": {},
   "outputs": [
    {
     "data": {
      "text/plain": [
       "gender                     0.544190\n",
       "age                        0.465022\n",
       "language                   0.000016\n",
       "first_affiliate_tracked    0.000322\n",
       "first_browser              0.275831\n",
       "dtype: float64"
      ]
     },
     "execution_count": 21,
     "metadata": {},
     "output_type": "execute_result"
    }
   ],
   "source": [
    "df_test_missing = df_test.isnull().sum() / df_test.shape[0]\n",
    "df_test_missing[df_test_missing > 0].drop('date_first_booking')"
   ]
  },
  {
   "cell_type": "markdown",
   "metadata": {},
   "source": [
    "В наших данных много пропусков в переменных gender, age, date_first_booking и first_browser. \n",
    "Переменная date_first_booking связана с целевой переменной и ее пропуски обусловлены значением NDF целевой переменной. По остальным переменным с пропусками нужно будет выбрать стратегии обработки."
   ]
  },
  {
   "cell_type": "markdown",
   "metadata": {},
   "source": [
    "###  Часть 3. Первичный визуальный анализ признаков"
   ]
  },
  {
   "cell_type": "markdown",
   "metadata": {},
   "source": [
    "#### Распределение целевой переменной"
   ]
  },
  {
   "cell_type": "code",
   "execution_count": 22,
   "metadata": {},
   "outputs": [
    {
     "data": {
      "image/png": "[encoded data removed]",
      "text/plain": [
       "<Figure size 1152x288 with 3 Axes>"
      ]
     },
     "metadata": {},
     "output_type": "display_data"
    }
   ],
   "source": [
    "fig, axes = plt.subplots(nrows=1, ncols=3, figsize=(16, 4))\n",
    "\n",
    "country_counts = df_train.country_destination.value_counts()\n",
    "country_counts.plot(kind='bar',title='Country Destination Count', ax=axes[0])\n",
    "\n",
    "ax = country_counts.div(country_counts.sum()).plot(kind='bar',title='Country Destination %',ax=axes[1] )\n",
    "ax.set_yticklabels(['{:3.1f}%'.format(x*100) for x in ax.get_yticks()])\n",
    "\n",
    "booked_count = df_train[df_train.country_destination != 'NDF'].country_destination.value_counts()\n",
    "ax1 = booked_count.div(booked_count.sum()).plot(kind='bar',title='Country Destination % без NDF',ax=axes[2] )\n",
    "ax1.set_yticklabels(['{:3.1f}%'.format(x*100) for x in ax1.get_yticks()]);"
   ]
  },
  {
   "cell_type": "markdown",
   "metadata": {},
   "source": [
    "Графики подтверждают наши наблюдения, сделанные ранее - большая часть значений целевой переменной относятся к двум классам - NDF (не сделавшие бронирование) и USA."
   ]
  },
  {
   "cell_type": "markdown",
   "metadata": {},
   "source": [
    "#### Распределение целевой переменной с учетом пола"
   ]
  },
  {
   "cell_type": "code",
   "execution_count": 23,
   "metadata": {},
   "outputs": [
    {
     "data": {
      "image/png": "[encoded data removed]",
      "text/plain": [
       "<Figure size 1152x648 with 1 Axes>"
      ]
     },
     "metadata": {},
     "output_type": "display_data"
    }
   ],
   "source": [
    "women = sum(df_train['gender'] == 'FEMALE')\n",
    "men = sum(df_train['gender'] == 'MALE')\n",
    "\n",
    "female_destinations = df_train[df_train['gender'] == 'FEMALE'].country_destination.value_counts() / women * 100\n",
    "male_destinations = df_train[df_train['gender'] == 'MALE'].country_destination.value_counts() / men * 100\n",
    "\n",
    "# Bar width\n",
    "width = 0.4\n",
    "\n",
    "male_destinations.plot(kind='bar', width=width, color='green', position=0, label='Male', rot=0, figsize=(16, 9))\n",
    "female_destinations.plot(kind='bar', width=width, color='pink', position=1, label='Female', rot=0, figsize=(16, 9))\n",
    "\n",
    "plt.legend()\n",
    "plt.xlabel('Destination Country')\n",
    "plt.ylabel('Percentage')\n",
    "\n",
    "sns.despine()\n",
    "plt.show()"
   ]
  },
  {
   "cell_type": "markdown",
   "metadata": {},
   "source": [
    "Судя по графику, практически нет различий в предпочтениях мужчин и женщин."
   ]
  },
  {
   "cell_type": "markdown",
   "metadata": {},
   "source": [
    "#### Распределение целевой переменной с учетом возраста"
   ]
  },
  {
   "cell_type": "code",
   "execution_count": 25,
   "metadata": {},
   "outputs": [
    {
     "name": "stderr",
     "output_type": "stream",
     "text": [
      "C:\\Users\\MIHA\\Anaconda3\\lib\\site-packages\\matplotlib\\axes\\_axes.py:6462: UserWarning: The 'normed' kwarg is deprecated, and has been replaced by the 'density' kwarg.\n",
      "  warnings.warn(\"The 'normed' kwarg is deprecated, and has been \"\n"
     ]
    },
    {
     "data": {
      "image/png": "[encoded data removed]",
      "text/plain": [
       "<Figure size 1152x648 with 1 Axes>"
      ]
     },
     "metadata": {},
     "output_type": "display_data"
    }
   ],
   "source": [
    "sns.distplot(df_train[(df_train.age < 100)&(df_train.age > 10)].age.dropna(), color='#FD5C64')\n",
    "plt.title(\"Распределение пользователей по возрасту\")\n",
    "#plt.figsize = (16, 9)\n",
    "plt.xlabel('Age')\n",
    "plt.rcParams['figure.figsize'] = 16,9"
   ]
  },
  {
   "cell_type": "markdown",
   "metadata": {},
   "source": [
    "AirBnb наиболее популярен среди пользователей от 25 до 40 лет."
   ]
  },
  {
   "cell_type": "code",
   "execution_count": 26,
   "metadata": {},
   "outputs": [],
   "source": [
    "age_data = df_train[(df_train.age < 100)&(df_train.age > 10)]"
   ]
  },
  {
   "cell_type": "code",
   "execution_count": 27,
   "metadata": {},
   "outputs": [
    {
     "data": {
      "image/png": "[encoded data removed]",
      "text/plain": [
       "<Figure size 1152x648 with 1 Axes>"
      ]
     },
     "metadata": {},
     "output_type": "display_data"
    }
   ],
   "source": [
    "sns.boxplot(x='country_destination', y='age', data=age_data, palette=\"muted\");"
   ]
  },
  {
   "cell_type": "markdown",
   "metadata": {},
   "source": [
    "На этом графике не видно больших различий бронирования в зависимости от возраста пользователя."
   ]
  },
  {
   "cell_type": "markdown",
   "metadata": {},
   "source": [
    "Попробуем посмотреть на распределение целевой переменной по возрасту на двух частях выборки, разделенных медианой."
   ]
  },
  {
   "cell_type": "code",
   "execution_count": 28,
   "metadata": {},
   "outputs": [
    {
     "data": {
      "text/plain": [
       "34.0"
      ]
     },
     "execution_count": 28,
     "metadata": {},
     "output_type": "execute_result"
    }
   ],
   "source": [
    "age_data.age.median()"
   ]
  },
  {
   "cell_type": "code",
   "execution_count": 29,
   "metadata": {},
   "outputs": [
    {
     "data": {
      "image/png": "[encoded data removed]",
      "text/plain": [
       "<Figure size 1152x648 with 1 Axes>"
      ]
     },
     "metadata": {},
     "output_type": "display_data"
    }
   ],
   "source": [
    "age = age_data.age.median()\n",
    "\n",
    "younger = sum(age_data['age'] < age)\n",
    "older = sum(age_data['age'] > age)\n",
    "\n",
    "younger_destinations = age_data[age_data['age'] < age].country_destination.value_counts() / younger * 100\n",
    "older_destinations = age_data[age_data['age'] > age].country_destination.value_counts() / older * 100\n",
    "\n",
    "younger_destinations.plot(kind='bar', width=width, color='#A1EA15', position=0, label='Younger 50%', rot=0)\n",
    "older_destinations.plot(kind='bar', width=width, color='#4EE3C9', position=1, label='Older 50%', rot=0)\n",
    "\n",
    "plt.legend()\n",
    "plt.xlabel('Destination Country')\n",
    "plt.ylabel('Percentage')\n",
    "\n",
    "sns.despine()\n",
    "plt.show()"
   ]
  },
  {
   "cell_type": "markdown",
   "metadata": {},
   "source": [
    "На этом графике видно, что \"более молодая\" половина делает чаще первое бронирование после регистрации (меньше доля NDF) и в то же время чаще делает бронирование в США."
   ]
  },
  {
   "cell_type": "markdown",
   "metadata": {},
   "source": [
    "#### Временные признаки"
   ]
  },
  {
   "cell_type": "code",
   "execution_count": 30,
   "metadata": {},
   "outputs": [
    {
     "data": {
      "image/png": "[encoded data removed]",
      "text/plain": [
       "<Figure size 1152x648 with 1 Axes>"
      ]
     },
     "metadata": {},
     "output_type": "display_data"
    }
   ],
   "source": [
    "#sns.set_style(\"whitegrid\", {'axes.edgecolor': '0'})\n",
    "#sns.set_context(\"poster\", font_scale=1.1)\n",
    "df_all['date_account_created'] = pd.to_datetime(df_all['date_account_created'])\n",
    "df_all.date_account_created.value_counts().sort_index().plot(kind='line', linewidth=1.2, color='red')\n",
    "plt.title(\"Количество новых пользователей по годам\");"
   ]
  },
  {
   "cell_type": "markdown",
   "metadata": {},
   "source": [
    "Мы видим экспоненциальный рост количества пользователей по времени."
   ]
  },
  {
   "cell_type": "markdown",
   "metadata": {},
   "source": [
    "###  Часть 4. Закономерности, \"инсайты\", особенности данных"
   ]
  },
  {
   "cell_type": "markdown",
   "metadata": {
    "collapsed": true
   },
   "source": [
    "Выше вы уже отмечали найденные особенности в данных. Соберем их здесь вместе:\n",
    "* Распределение целевой переменной говорит о том, что подавляющее большинство пользователей (по факту 90%) попадает в две категории - они либо еще не сделали бронирование, либо сделали первое бронирование в США. На это стоит обратить внимание при моделировании, т.к. сильно обобщенная модель может выдавать только два прогноза - NDF и USA.\n",
    "* Мы видим экспоненциальный рост количества пользователей по времени. Причем скорость роста усиливается с 2014 года. Возможно имеет смысл использовать для моделирования более свежие данные (начиная с 2014 года).\n",
    "* В данных довольно много пропусков (и некорректных значений) по полу и возрасту. Часть некорректных значений по возрасту можно будет восстановить, т.к. некоторые пользователи вместо возраста ввели год рождения (например, 1951). Пропущенные значения связаны, скорее всего, с нежеланием пользователей раскрывать свои личные данные.\n",
    "* Мы не обнаружили различий в распределении целевой переменной по полу и возрасту. Для моделирования потребуется более глубокий анализ и создание новых признаков.\n",
    "* Пользователи с возрастом меньше медианного (половина выборки) более часто делают первое бронирование, чем вторая половина пользователей.\n",
    "* Переменная date_first_booking связана с целевой переменной и заполнена только в обучающей выборке. Она не может быть использована для обучения модели, поэтому ее следует удалить из обучающей выборки."
   ]
  },
  {
   "cell_type": "markdown",
   "metadata": {},
   "source": [
    "###  Часть 5. Предобработка данных "
   ]
  },
  {
   "cell_type": "markdown",
   "metadata": {},
   "source": [
    "#### Скорректируем форматы переменных, связанных с датами и временем"
   ]
  },
  {
   "cell_type": "code",
   "execution_count": 31,
   "metadata": {},
   "outputs": [],
   "source": [
    "df_train['date_account_created'] = pd.to_datetime(df_train['date_account_created'])\n",
    "df_test['date_account_created'] = pd.to_datetime(df_test['date_account_created'])\n",
    "\n",
    "df_train['timestamp_first_active'] = pd.to_datetime(df_train['timestamp_first_active'], format='%Y%m%d%H%M%S')\n",
    "df_test['timestamp_first_active'] = pd.to_datetime(df_test['timestamp_first_active'], format='%Y%m%d%H%M%S')"
   ]
  },
  {
   "cell_type": "markdown",
   "metadata": {},
   "source": [
    "Переменная date_first_booking связана с целевой переменной и заполнена только в обучающей выборке, поэтому ее следует удалить:"
   ]
  },
  {
   "cell_type": "code",
   "execution_count": 32,
   "metadata": {},
   "outputs": [],
   "source": [
    "df_train.drop('date_first_booking', axis=1, inplace=True)\n",
    "df_test.drop('date_first_booking', axis=1, inplace=True)"
   ]
  },
  {
   "cell_type": "markdown",
   "metadata": {},
   "source": [
    "#### Обработка переменной Age"
   ]
  },
  {
   "cell_type": "markdown",
   "metadata": {},
   "source": [
    "Часть пользователей ввели год рождения вместо возраста. Попробуем восстановить их возраст."
   ]
  },
  {
   "cell_type": "code",
   "execution_count": 33,
   "metadata": {},
   "outputs": [],
   "source": [
    "train_with_year_age_mask = df_train['age'] > 1900\n",
    "df_train.loc[train_with_year_age_mask, 'age'] = 2015 - df_train.loc[train_with_year_age_mask, 'age'] # соревнование 2015г"
   ]
  },
  {
   "cell_type": "code",
   "execution_count": 34,
   "metadata": {},
   "outputs": [],
   "source": [
    "test_with_year_age_mask = df_test['age'] > 1900\n",
    "df_test.loc[test_with_year_age_mask, 'age'] = 2015 - df_test.loc[test_with_year_age_mask, 'age']"
   ]
  },
  {
   "cell_type": "markdown",
   "metadata": {},
   "source": [
    "Значения возраста больше 100 считаем некорректными и присваиваем им неопределенное значение."
   ]
  },
  {
   "cell_type": "code",
   "execution_count": 35,
   "metadata": {},
   "outputs": [],
   "source": [
    "df_train.loc[df_train.age >= 100, 'age'] = np.nan\n",
    "df_test.loc[df_test.age >= 100, 'age'] = np.nan"
   ]
  },
  {
   "cell_type": "markdown",
   "metadata": {},
   "source": [
    "Аналогично поступаем со значениями возраста менее 15."
   ]
  },
  {
   "cell_type": "code",
   "execution_count": 36,
   "metadata": {},
   "outputs": [],
   "source": [
    "df_train.loc[df_train.age <= 15, 'age'] = np.nan\n",
    "df_test.loc[df_test.age <= 15, 'age'] = np.nan"
   ]
  },
  {
   "cell_type": "markdown",
   "metadata": {},
   "source": [
    "Все пропуски в возрасте заполняем -1."
   ]
  },
  {
   "cell_type": "code",
   "execution_count": 37,
   "metadata": {},
   "outputs": [],
   "source": [
    "df_train['age'].fillna(-1, inplace=True)\n",
    "df_test['age'].fillna(-1, inplace=True)"
   ]
  },
  {
   "cell_type": "code",
   "execution_count": 38,
   "metadata": {},
   "outputs": [],
   "source": [
    "df_train['age'] = df_train['age'].astype(int)\n",
    "df_test['age'] = df_test['age'].astype(int)"
   ]
  },
  {
   "cell_type": "markdown",
   "metadata": {},
   "source": [
    "#### Обработка остальных пропусков"
   ]
  },
  {
   "cell_type": "markdown",
   "metadata": {},
   "source": [
    "Для категориальных переменных с пропущенными значениями преобразуем пропуски к 'unknown' для того, чтобы потом сработал LabelBinarizer."
   ]
  },
  {
   "cell_type": "code",
   "execution_count": 39,
   "metadata": {},
   "outputs": [],
   "source": [
    "df_train['first_affiliate_tracked'].fillna('unknown', inplace=True)\n",
    "df_test['first_affiliate_tracked'].fillna('unknown', inplace=True)\n",
    "              \n",
    "df_train['first_browser'].fillna('unknown', inplace=True)\n",
    "df_test['first_browser'].fillna('unknown', inplace=True)\n",
    "\n",
    "df_train['language'].fillna('unknown', inplace=True)\n",
    "df_test['language'].fillna('unknown', inplace=True)\n",
    "\n",
    "df_train['gender'].fillna('unknown', inplace=True)\n",
    "df_test['gender'].fillna('unknown', inplace=True)"
   ]
  },
  {
   "cell_type": "markdown",
   "metadata": {},
   "source": [
    "###  Часть 6. Создание новых признаков и описание этого процесса"
   ]
  },
  {
   "cell_type": "markdown",
   "metadata": {},
   "source": [
    "#### Добавим признаки, связанные с сессиями пользователя"
   ]
  },
  {
   "cell_type": "code",
   "execution_count": 40,
   "metadata": {},
   "outputs": [
    {
     "name": "stdout",
     "output_type": "stream",
     "text": [
      "Wall time: 6.67 s\n"
     ]
    }
   ],
   "source": [
    "%%time\n",
    "df_sessions = pd.read_csv('../data/sessions.csv')"
   ]
  },
  {
   "cell_type": "code",
   "execution_count": 41,
   "metadata": {},
   "outputs": [
    {
     "data": {
      "text/plain": [
       "(10567737, 6)"
      ]
     },
     "execution_count": 41,
     "metadata": {},
     "output_type": "execute_result"
    }
   ],
   "source": [
    "df_sessions.shape"
   ]
  },
  {
   "cell_type": "code",
   "execution_count": 42,
   "metadata": {},
   "outputs": [
    {
     "data": {
      "text/html": [
       "<div>\n",
       "<style scoped>\n",
       "    .dataframe tbody tr th:only-of-type {\n",
       "        vertical-align: middle;\n",
       "    }\n",
       "\n",
       "    .dataframe tbody tr th {\n",
       "        vertical-align: top;\n",
       "    }\n",
       "\n",
       "    .dataframe thead th {\n",
       "        text-align: right;\n",
       "    }\n",
       "</style>\n",
       "<table border=\"1\" class=\"dataframe\">\n",
       "  <thead>\n",
       "    <tr style=\"text-align: right;\">\n",
       "      <th></th>\n",
       "      <th>user_id</th>\n",
       "      <th>action</th>\n",
       "      <th>action_type</th>\n",
       "      <th>action_detail</th>\n",
       "      <th>device_type</th>\n",
       "      <th>secs_elapsed</th>\n",
       "    </tr>\n",
       "  </thead>\n",
       "  <tbody>\n",
       "    <tr>\n",
       "      <th>0</th>\n",
       "      <td>d1mm9tcy42</td>\n",
       "      <td>lookup</td>\n",
       "      <td>NaN</td>\n",
       "      <td>NaN</td>\n",
       "      <td>Windows Desktop</td>\n",
       "      <td>319.0</td>\n",
       "    </tr>\n",
       "    <tr>\n",
       "      <th>1</th>\n",
       "      <td>d1mm9tcy42</td>\n",
       "      <td>search_results</td>\n",
       "      <td>click</td>\n",
       "      <td>view_search_results</td>\n",
       "      <td>Windows Desktop</td>\n",
       "      <td>67753.0</td>\n",
       "    </tr>\n",
       "    <tr>\n",
       "      <th>2</th>\n",
       "      <td>d1mm9tcy42</td>\n",
       "      <td>lookup</td>\n",
       "      <td>NaN</td>\n",
       "      <td>NaN</td>\n",
       "      <td>Windows Desktop</td>\n",
       "      <td>301.0</td>\n",
       "    </tr>\n",
       "    <tr>\n",
       "      <th>3</th>\n",
       "      <td>d1mm9tcy42</td>\n",
       "      <td>search_results</td>\n",
       "      <td>click</td>\n",
       "      <td>view_search_results</td>\n",
       "      <td>Windows Desktop</td>\n",
       "      <td>22141.0</td>\n",
       "    </tr>\n",
       "    <tr>\n",
       "      <th>4</th>\n",
       "      <td>d1mm9tcy42</td>\n",
       "      <td>lookup</td>\n",
       "      <td>NaN</td>\n",
       "      <td>NaN</td>\n",
       "      <td>Windows Desktop</td>\n",
       "      <td>435.0</td>\n",
       "    </tr>\n",
       "  </tbody>\n",
       "</table>\n",
       "</div>"
      ],
      "text/plain": [
       "      user_id          action action_type        action_detail  \\\n",
       "0  d1mm9tcy42          lookup         NaN                  NaN   \n",
       "1  d1mm9tcy42  search_results       click  view_search_results   \n",
       "2  d1mm9tcy42          lookup         NaN                  NaN   \n",
       "3  d1mm9tcy42  search_results       click  view_search_results   \n",
       "4  d1mm9tcy42          lookup         NaN                  NaN   \n",
       "\n",
       "       device_type  secs_elapsed  \n",
       "0  Windows Desktop         319.0  \n",
       "1  Windows Desktop       67753.0  \n",
       "2  Windows Desktop         301.0  \n",
       "3  Windows Desktop       22141.0  \n",
       "4  Windows Desktop         435.0  "
      ]
     },
     "execution_count": 42,
     "metadata": {},
     "output_type": "execute_result"
    }
   ],
   "source": [
    "df_sessions.head(5)"
   ]
  },
  {
   "cell_type": "markdown",
   "metadata": {},
   "source": [
    "Выдвинем гипотезу, что пользоватали, которые чаще пользуются airbnb с мобильного устройства, чаще бронируют жилье в родной стране. Соответственно будет полезно узнать основной используемый девайс в разрезе пользователя."
   ]
  },
  {
   "cell_type": "code",
   "execution_count": 43,
   "metadata": {},
   "outputs": [],
   "source": [
    "# Определяем основной девайс пользователя\n",
    "sessions_device = df_sessions.loc[:, ['user_id', 'device_type', 'secs_elapsed']]\n",
    "aggregated_lvl1 = sessions_device.groupby(['user_id', 'device_type'], as_index=False, sort=False).aggregate(np.sum)\n",
    "idx = aggregated_lvl1.groupby(['user_id'], sort=False)['secs_elapsed'].transform(max) == aggregated_lvl1['secs_elapsed']\n",
    "df_primary = pd.DataFrame(aggregated_lvl1.loc[idx , ['user_id', 'device_type', 'secs_elapsed']])\n",
    "df_primary.rename(columns = {'device_type':'primary_device', 'secs_elapsed':'primary_secs'}, inplace=True)\n",
    "\n",
    "df_primary = pd.concat([df_primary[['user_id', 'primary_secs']], \n",
    "                        pd.get_dummies(df_primary['primary_device'], \n",
    "                                       prefix='prima')\n",
    "                       ], axis=1)\n",
    "df_primary.columns = [col.replace('-', '').replace(' ', '_').lower() for col in df_primary.columns]"
   ]
  },
  {
   "cell_type": "code",
   "execution_count": 44,
   "metadata": {},
   "outputs": [
    {
     "data": {
      "text/plain": [
       "(135483, 16)"
      ]
     },
     "execution_count": 44,
     "metadata": {},
     "output_type": "execute_result"
    }
   ],
   "source": [
    "df_primary.shape"
   ]
  },
  {
   "cell_type": "markdown",
   "metadata": {},
   "source": [
    "Также определим второй по популярности девайс в разрезе пользователя"
   ]
  },
  {
   "cell_type": "code",
   "execution_count": 45,
   "metadata": {},
   "outputs": [],
   "source": [
    "# Определяем второй девайс пользователя\n",
    "remaining = aggregated_lvl1.drop(aggregated_lvl1.index[idx])\n",
    "idx = remaining.groupby(['user_id'], sort=False)['secs_elapsed'].transform(max) == remaining['secs_elapsed']\n",
    "df_secondary = pd.DataFrame(remaining.loc[idx , ['user_id', 'device_type', 'secs_elapsed']])\n",
    "df_secondary.rename(columns = {'device_type':'secondary_device', 'secs_elapsed':'secondary_secs'}, inplace=True)\n",
    "\n",
    "\n",
    "df_secondary = pd.concat([df_secondary[['user_id', 'secondary_secs']], \n",
    "                        pd.get_dummies(df_secondary['secondary_device'], \n",
    "                                       prefix='second')\n",
    "                       ], axis=1)\n",
    "df_secondary.columns = [col.replace('-', '').replace(' ', '_').lower() for col in df_secondary.columns]\n",
    "#df_secondary = convert_to_binary(df=df_secondary, column_to_convert='secondary_device')\n",
    "#df_secondary.drop('secondary_device', axis=1, inplace=True)"
   ]
  },
  {
   "cell_type": "code",
   "execution_count": 46,
   "metadata": {},
   "outputs": [
    {
     "data": {
      "text/plain": [
       "(36521, 16)"
      ]
     },
     "execution_count": 46,
     "metadata": {},
     "output_type": "execute_result"
    }
   ],
   "source": [
    "df_secondary.shape"
   ]
  },
  {
   "cell_type": "markdown",
   "metadata": {},
   "source": [
    "Дополнительно рассчитаем фичи на основе агрегации различных типов событий из пользовательских сессий."
   ]
  },
  {
   "cell_type": "code",
   "execution_count": 47,
   "metadata": {},
   "outputs": [],
   "source": [
    "# Вспомогательная функция для расчета агрегатов по типам событий в разрезе клиентов и разворачивания (pivot) типов по столбцам \n",
    "def convert_to_counts(df, id_col, column_to_convert):\n",
    "    id_list = df[id_col].drop_duplicates()\n",
    "\n",
    "    df_counts = df.loc[:,[id_col, column_to_convert]]\n",
    "    df_counts['count'] = 1\n",
    "    df_counts = df_counts.groupby(by=[id_col, column_to_convert], as_index=False, sort=False).sum()\n",
    "\n",
    "    new_df = df_counts.pivot(index=id_col, columns=column_to_convert, values='count')\n",
    "    new_df = new_df.fillna(0)\n",
    "\n",
    "    # Rename Columns\n",
    "    categories = list(df[column_to_convert].drop_duplicates())\n",
    "    for category in categories:\n",
    "        cat_name = str(category).replace(\" \", \"_\").replace(\"(\", \"\").replace(\")\", \"\").replace(\"/\", \"_\").replace(\"-\", \"\").lower()\n",
    "        col_name = column_to_convert + '_' + cat_name\n",
    "        new_df.rename(columns = {category:col_name}, inplace=True)\n",
    "\n",
    "    return new_df"
   ]
  },
  {
   "cell_type": "code",
   "execution_count": 48,
   "metadata": {},
   "outputs": [
    {
     "name": "stdout",
     "output_type": "stream",
     "text": [
      "Aggregating actions taken...\n",
      "Converting action column...\n",
      "Converting action_type column...\n",
      "Converting action_detail column...\n",
      "Wall time: 1min 29s\n"
     ]
    }
   ],
   "source": [
    "%%time\n",
    "print(\"Aggregating actions taken...\")\n",
    "session_actions = df_sessions.loc[:, ['user_id', 'action', 'action_type', 'action_detail']]\n",
    "columns_to_convert = ['action', 'action_type', 'action_detail']\n",
    "session_actions = session_actions.fillna('not provided')\n",
    "first = True\n",
    "\n",
    "for column in columns_to_convert:\n",
    "    \n",
    "    print(\"Converting \" + column + \" column...\")\n",
    "    current_data = convert_to_counts(df=session_actions, id_col='user_id', column_to_convert=column)\n",
    "    \n",
    "    # If first loop, current data becomes existing data, otherwise merge existing and current\n",
    "    if first:\n",
    "        first = False\n",
    "        actions_data = current_data\n",
    "    else:\n",
    "        actions_data = pd.concat([actions_data, current_data], axis=1, join='inner')"
   ]
  },
  {
   "cell_type": "code",
   "execution_count": 49,
   "metadata": {},
   "outputs": [
    {
     "data": {
      "text/plain": [
       "(135484, 527)"
      ]
     },
     "execution_count": 49,
     "metadata": {},
     "output_type": "execute_result"
    }
   ],
   "source": [
    "actions_data.shape"
   ]
  },
  {
   "cell_type": "markdown",
   "metadata": {},
   "source": [
    "#### Объединим признаки сессий с обучающей и тестовой выборками"
   ]
  },
  {
   "cell_type": "code",
   "execution_count": 50,
   "metadata": {},
   "outputs": [],
   "source": [
    "# Сначала объединим датасеты с девайсами...\n",
    "df_primary.set_index('user_id', inplace=True)\n",
    "df_secondary.set_index('user_id', inplace=True)\n",
    "device_data = pd.concat([df_primary, df_secondary], axis=1, join=\"outer\")\n",
    "\n",
    "# ...затем к девайсам добавим события\n",
    "combined_results = pd.concat([device_data, actions_data], axis=1, join='outer')\n",
    "df_sessions = combined_results.fillna(0)"
   ]
  },
  {
   "cell_type": "code",
   "execution_count": 51,
   "metadata": {},
   "outputs": [],
   "source": [
    "primary_cols = [col for col in df_primary.columns if col != 'primary_secs']\n",
    "secondary_cols = [col for col in df_secondary.columns if col != 'secondary_secs']"
   ]
  },
  {
   "cell_type": "code",
   "execution_count": 52,
   "metadata": {},
   "outputs": [
    {
     "data": {
      "text/plain": [
       "(135484, 557)"
      ]
     },
     "execution_count": 52,
     "metadata": {},
     "output_type": "execute_result"
    }
   ],
   "source": [
    "df_sessions.shape"
   ]
  },
  {
   "cell_type": "code",
   "execution_count": 53,
   "metadata": {},
   "outputs": [],
   "source": [
    "df_train.set_index('id', inplace=True)\n",
    "df_test.set_index('id', inplace=True)"
   ]
  },
  {
   "cell_type": "code",
   "execution_count": 54,
   "metadata": {},
   "outputs": [],
   "source": [
    "#df_train_sessions = pd.DataFrame(index=df_train['id'])\n",
    "#df_test_sessions = pd.DataFrame(index=df_test['id'])"
   ]
  },
  {
   "cell_type": "code",
   "execution_count": 55,
   "metadata": {},
   "outputs": [],
   "source": [
    "df_train = df_train.join(df_sessions, how='inner')\n",
    "df_test = df_test.join(df_sessions, how='left')"
   ]
  },
  {
   "cell_type": "code",
   "execution_count": 56,
   "metadata": {},
   "outputs": [],
   "source": [
    "df_train.fillna(0, inplace=True)\n",
    "df_test.fillna(0, inplace=True)"
   ]
  },
  {
   "cell_type": "code",
   "execution_count": 57,
   "metadata": {},
   "outputs": [
    {
     "data": {
      "text/plain": [
       "((73815, 571), (62096, 570))"
      ]
     },
     "execution_count": 57,
     "metadata": {},
     "output_type": "execute_result"
    }
   ],
   "source": [
    "df_train.shape, df_test.shape"
   ]
  },
  {
   "cell_type": "markdown",
   "metadata": {},
   "source": [
    "#### Выделяем целевую переменную"
   ]
  },
  {
   "cell_type": "code",
   "execution_count": 58,
   "metadata": {},
   "outputs": [],
   "source": [
    "y_enc = LabelEncoder()"
   ]
  },
  {
   "cell_type": "code",
   "execution_count": 59,
   "metadata": {},
   "outputs": [
    {
     "name": "stderr",
     "output_type": "stream",
     "text": [
      "C:\\Users\\MIHA\\Anaconda3\\lib\\site-packages\\sklearn\\preprocessing\\label.py:111: DataConversionWarning: A column-vector y was passed when a 1d array was expected. Please change the shape of y to (n_samples, ), for example using ravel().\n",
      "  y = column_or_1d(y, warn=True)\n"
     ]
    }
   ],
   "source": [
    "# Текстовые значения классов (стран) нужно перекодировать в числовые\n",
    "y = y_enc.fit_transform(df_train[['country_destination']])"
   ]
  },
  {
   "cell_type": "code",
   "execution_count": 60,
   "metadata": {},
   "outputs": [],
   "source": [
    "df_train.drop('country_destination', axis=1, inplace=True)"
   ]
  },
  {
   "cell_type": "code",
   "execution_count": 61,
   "metadata": {},
   "outputs": [],
   "source": [
    "categorical_features.remove('country_destination')"
   ]
  },
  {
   "cell_type": "markdown",
   "metadata": {},
   "source": [
    "#### Перекодируем текстовые категориальные переменные"
   ]
  },
  {
   "cell_type": "code",
   "execution_count": 62,
   "metadata": {},
   "outputs": [],
   "source": [
    "# Так как на входе у нах текстовые значения, то используем LabelBinarizer вместо OneHotEncoder\n",
    "lab_enc = LabelBinarizer(sparse_output=True)"
   ]
  },
  {
   "cell_type": "markdown",
   "metadata": {},
   "source": [
    "LabelBinarizer умеет кодировать только один признак за раз..."
   ]
  },
  {
   "cell_type": "code",
   "execution_count": 63,
   "metadata": {},
   "outputs": [],
   "source": [
    "X_train_affiliate_channel_bin = lab_enc.fit_transform(df_train['affiliate_channel'])\n",
    "X_test_affiliate_channel_bin = lab_enc.transform(df_test['affiliate_channel'])"
   ]
  },
  {
   "cell_type": "code",
   "execution_count": 64,
   "metadata": {},
   "outputs": [],
   "source": [
    "X_train_affiliate_provider_bin = lab_enc.fit_transform(df_train['affiliate_provider'])\n",
    "X_test_affiliate_provider_bin = lab_enc.transform(df_test['affiliate_provider'])"
   ]
  },
  {
   "cell_type": "code",
   "execution_count": 65,
   "metadata": {},
   "outputs": [],
   "source": [
    "X_train_first_affiliate_tracked_bin = lab_enc.fit_transform(df_train['first_affiliate_tracked'])\n",
    "X_test_first_affiliate_tracked_bin = lab_enc.transform(df_test['first_affiliate_tracked'])"
   ]
  },
  {
   "cell_type": "code",
   "execution_count": 66,
   "metadata": {},
   "outputs": [],
   "source": [
    "X_train_first_browser_bin = lab_enc.fit_transform(df_train['first_browser'])\n",
    "X_test_first_browser_bin = lab_enc.transform(df_test['first_browser'])"
   ]
  },
  {
   "cell_type": "code",
   "execution_count": 67,
   "metadata": {},
   "outputs": [],
   "source": [
    "X_train_first_device_type_bin = lab_enc.fit_transform(df_train['first_device_type'])\n",
    "X_test_first_device_type_bin = lab_enc.transform(df_test['first_device_type'])"
   ]
  },
  {
   "cell_type": "code",
   "execution_count": 68,
   "metadata": {},
   "outputs": [],
   "source": [
    "X_train_gender_bin = lab_enc.fit_transform(df_train['gender'])\n",
    "X_test_gender_bin = lab_enc.transform(df_test['gender'])"
   ]
  },
  {
   "cell_type": "code",
   "execution_count": 69,
   "metadata": {},
   "outputs": [],
   "source": [
    "X_train_language_bin = lab_enc.fit_transform(df_train['language'])\n",
    "X_test_language_bin = lab_enc.transform(df_test['language'])"
   ]
  },
  {
   "cell_type": "code",
   "execution_count": 70,
   "metadata": {},
   "outputs": [],
   "source": [
    "X_train_signup_app_bin = lab_enc.fit_transform(df_train['signup_app'])\n",
    "X_test_signup_app_bin = lab_enc.transform(df_test['signup_app'])"
   ]
  },
  {
   "cell_type": "code",
   "execution_count": 71,
   "metadata": {},
   "outputs": [],
   "source": [
    "X_train_signup_method_bin = lab_enc.fit_transform(df_train['signup_method'])\n",
    "X_test_signup_method_bin = lab_enc.transform(df_test['signup_method'])"
   ]
  },
  {
   "cell_type": "markdown",
   "metadata": {},
   "source": [
    "#### Выделяем признаки, связанные с датами и временем"
   ]
  },
  {
   "cell_type": "code",
   "execution_count": 72,
   "metadata": {},
   "outputs": [],
   "source": [
    "df_train['weekday_account_created'] = df_train.date_account_created.dt.weekday\n",
    "df_test['weekday_account_created'] = df_test.date_account_created.dt.weekday\n",
    "df_train['day_account_created'] = df_train.date_account_created.dt.day\n",
    "df_test['day_account_created'] = df_test.date_account_created.dt.day\n",
    "df_train['month_account_created'] = df_train.date_account_created.dt.month\n",
    "df_test['month_account_created'] = df_test.date_account_created.dt.month\n",
    "df_train['quarter_account_created'] = df_train.date_account_created.dt.quarter\n",
    "df_test['quarter_account_created'] = df_test.date_account_created.dt.quarter\n",
    "df_train['year_account_created'] = df_train.date_account_created.dt.year\n",
    "df_test['year_account_created'] = df_test.date_account_created.dt.year"
   ]
  },
  {
   "cell_type": "code",
   "execution_count": 73,
   "metadata": {},
   "outputs": [],
   "source": [
    "df_train['hour_first_active'] = df_train.timestamp_first_active.dt.hour\n",
    "df_test['hour_first_active'] = df_test.timestamp_first_active.dt.hour\n",
    "df_train['weekday_first_active'] = df_train.timestamp_first_active.dt.weekday\n",
    "df_test['weekday_first_active'] = df_test.timestamp_first_active.dt.weekday\n",
    "df_train['day_first_active'] = df_train.timestamp_first_active.dt.day\n",
    "df_test['day_first_active'] = df_test.timestamp_first_active.dt.day\n",
    "df_train['month_first_active'] = df_train.timestamp_first_active.dt.month\n",
    "df_test['month_first_active'] = df_test.timestamp_first_active.dt.month\n",
    "df_train['quarter_first_active'] = df_train.timestamp_first_active.dt.quarter\n",
    "df_test['quarter_first_active'] = df_test.timestamp_first_active.dt.quarter\n",
    "df_train['year_first_active'] = df_train.timestamp_first_active.dt.year\n",
    "df_test['year_first_active'] = df_test.timestamp_first_active.dt.year"
   ]
  },
  {
   "cell_type": "code",
   "execution_count": 74,
   "metadata": {},
   "outputs": [],
   "source": [
    "df_train['time_lag'] = (df_train['date_account_created'] - df_train['timestamp_first_active']).dt.days\n",
    "df_test['time_lag'] = (df_test['date_account_created'] - df_test['timestamp_first_active']).dt.days"
   ]
  },
  {
   "cell_type": "markdown",
   "metadata": {},
   "source": [
    "#### Перекодируем числовые категориальные переменные"
   ]
  },
  {
   "cell_type": "code",
   "execution_count": 75,
   "metadata": {},
   "outputs": [],
   "source": [
    "oh_enc = OneHotEncoder(handle_unknown='ignore')"
   ]
  },
  {
   "cell_type": "code",
   "execution_count": 76,
   "metadata": {},
   "outputs": [],
   "source": [
    "X_train_cat_bin = oh_enc.fit_transform(df_train[['signup_flow', \n",
    "                                                'weekday_account_created', \n",
    "                                                'day_account_created', \n",
    "                                                'month_account_created', \n",
    "                                                'quarter_account_created', \n",
    "                                                'year_account_created', \n",
    "                                                'hour_first_active', \n",
    "                                                'weekday_first_active', \n",
    "                                                'day_first_active', \n",
    "                                                'month_first_active', \n",
    "                                                'quarter_first_active', \n",
    "                                                'year_first_active']])\n",
    "\n",
    "X_test_cat_bin = oh_enc.transform(df_test[['signup_flow', \n",
    "                                           'weekday_account_created', \n",
    "                                           'day_account_created', \n",
    "                                           'month_account_created', \n",
    "                                           'quarter_account_created', \n",
    "                                           'year_account_created', \n",
    "                                           'hour_first_active', \n",
    "                                           'weekday_first_active', \n",
    "                                           'day_first_active', \n",
    "                                           'month_first_active', \n",
    "                                           'quarter_first_active', \n",
    "                                           'year_first_active']])"
   ]
  },
  {
   "cell_type": "code",
   "execution_count": 77,
   "metadata": {},
   "outputs": [
    {
     "data": {
      "text/plain": [
       "((73815, 125), (62096, 125))"
      ]
     },
     "execution_count": 77,
     "metadata": {},
     "output_type": "execute_result"
    }
   ],
   "source": [
    "X_train_cat_bin.shape, X_test_cat_bin.shape\n",
    "# ((213451, 160), (62096, 160))"
   ]
  },
  {
   "cell_type": "markdown",
   "metadata": {},
   "source": [
    "#### Масштабирование признаков"
   ]
  },
  {
   "cell_type": "markdown",
   "metadata": {},
   "source": [
    "Так как мы планируем попробовать в т.ч. линейные модели, то необходимо масштабирование признаков."
   ]
  },
  {
   "cell_type": "code",
   "execution_count": 78,
   "metadata": {},
   "outputs": [],
   "source": [
    "scaler = StandardScaler()\n",
    "X_train_age_scaled = scaler.fit_transform(df_train[['age']])\n",
    "X_test_age_scaled = scaler.transform(df_test[['age']])"
   ]
  },
  {
   "cell_type": "code",
   "execution_count": 79,
   "metadata": {},
   "outputs": [],
   "source": [
    "X_train_time_lag_scaled = scaler.fit_transform(df_train[['time_lag']])\n",
    "X_test_time_lag_scaled = scaler.transform(df_test[['time_lag']])"
   ]
  },
  {
   "cell_type": "code",
   "execution_count": 80,
   "metadata": {},
   "outputs": [],
   "source": [
    "X_train_primary_secs_scaled = scaler.fit_transform(df_train[['primary_secs']])\n",
    "X_test_primary_secs_scaled = scaler.transform(df_test[['primary_secs']])"
   ]
  },
  {
   "cell_type": "code",
   "execution_count": 81,
   "metadata": {},
   "outputs": [],
   "source": [
    "X_train_actions_scaled = scaler.fit_transform(df_train[actions_data.columns])\n",
    "X_test_actions_scaled = scaler.transform(df_test[actions_data.columns])"
   ]
  },
  {
   "cell_type": "markdown",
   "metadata": {},
   "source": [
    "#### Объединим все созданные признаки в единый датасет"
   ]
  },
  {
   "cell_type": "code",
   "execution_count": 82,
   "metadata": {},
   "outputs": [],
   "source": [
    "X_train = csr_matrix(\n",
    "            hstack(\n",
    "                [X_train_affiliate_channel_bin,\n",
    "                 X_train_affiliate_provider_bin,\n",
    "                 X_train_first_affiliate_tracked_bin,\n",
    "                 X_train_first_browser_bin,\n",
    "                 X_train_first_device_type_bin,\n",
    "                 X_train_gender_bin,\n",
    "                 X_train_language_bin,\n",
    "                 X_train_signup_app_bin,\n",
    "                 X_train_signup_method_bin,\n",
    "                 X_train_cat_bin,\n",
    "                 X_train_age_scaled,\n",
    "                 X_train_time_lag_scaled,\n",
    "                 X_train_actions_scaled,\n",
    "                 df_train[primary_cols]\n",
    "                ]\n",
    "            )\n",
    ")"
   ]
  },
  {
   "cell_type": "code",
   "execution_count": 83,
   "metadata": {},
   "outputs": [],
   "source": [
    "X_test = csr_matrix(\n",
    "            hstack(\n",
    "                [X_test_affiliate_channel_bin,\n",
    "                 X_test_affiliate_provider_bin,\n",
    "                 X_test_first_affiliate_tracked_bin,\n",
    "                 X_test_first_browser_bin,\n",
    "                 X_test_first_device_type_bin,\n",
    "                 X_test_gender_bin,\n",
    "                 X_test_language_bin,\n",
    "                 X_test_signup_app_bin,\n",
    "                 X_test_signup_method_bin,\n",
    "                 X_test_cat_bin,\n",
    "                 X_test_age_scaled,\n",
    "                 X_test_time_lag_scaled,\n",
    "                 X_test_actions_scaled,\n",
    "                 df_test[primary_cols]\n",
    "                ]\n",
    "            )\n",
    ")"
   ]
  },
  {
   "cell_type": "code",
   "execution_count": 84,
   "metadata": {},
   "outputs": [
    {
     "data": {
      "text/plain": [
       "((73815, 780), (62096, 780))"
      ]
     },
     "execution_count": 84,
     "metadata": {},
     "output_type": "execute_result"
    }
   ],
   "source": [
    "X_train.shape, X_test.shape"
   ]
  },
  {
   "cell_type": "markdown",
   "metadata": {},
   "source": [
    "Выделяем обучающую выборку и валидационную (отложенную)."
   ]
  },
  {
   "cell_type": "code",
   "execution_count": 85,
   "metadata": {},
   "outputs": [],
   "source": [
    "X_train_part, X_valid, y_train_part, y_valid = train_test_split(X_train, y, test_size=0.3, random_state=17)"
   ]
  },
  {
   "cell_type": "markdown",
   "metadata": {},
   "source": [
    "### Часть 7. Выбор метрики"
   ]
  },
  {
   "cell_type": "markdown",
   "metadata": {},
   "source": [
    "В данной задаче по каждому пользователю из тестовой выборки нам нужно спрогнозировать 5 стран, разместив прогнозы в порядке уменьшения вероятности первого бронирования. В идеальном прогнозе для каждого пользователя на первом месте будет идти \"истинная\" страна первого бронирования. В хорошем же прогнозе чем выше \"истинная\" страна в списке из 5 спрогнозированных стран, тем лучше. Это чем-то похоже на ранжирование поисковой выдачи, поэтому применяется соответствующая метрика качества.\n",
    "\n",
    "В качестве основной метрики для оценки результатов модели мы будем использовать (вслед за организаторами соответствующего соревнования Kaggle) метрику [NDCG (Normalized discounted cumulative gain)](https://en.wikipedia.org/wiki/Discounted_cumulative_gain). Это метрика качества ранжирования, которая широко используется в информационном поиске, а также в некоторых задачах многолассовой классификации (наш случай). NDCG является нормализованной (нормированной) версией метрики Discounted Cumulative Gain (DCG), которая определяется следующим образом:\n",
    "$$\\large \\begin{array}{rcl}\n",
    "DCG_k = \\sum_{i=1}^{k}\\dfrac{2^{rel_i}-1}{\\log_{2}(i+1)}\n",
    "\\end{array}$$\n",
    "\n",
    "$rel_i$ - это релевантность нахождения объекта поисковой выдачи на позиции $i$. В нашем случае \"истинная\" страна имеет $rel_i = 1$, а все остальные $rel_i = 0$. Поэтому чем выше истинная страна в ранкинге, тем выше скор DCG.\n",
    "$k$ - параметр метрики - количество объектов, которые рассматриваются в ранкинге. В нашем случае $k = 5$.\n",
    "\n",
    "Для получения NDCG нужно DCG разделить на \"идеальный\" DCG для набора документов, которые все правильно отсортированы по их релевантности. В нашем случае IDCG = 1, т.к. у нас только одна релевантная страна и она должна быть расположена на первом месте, следовательно $\\dfrac{2^{1}-1}{\\log_{2}(1+1)}=1$."
   ]
  },
  {
   "cell_type": "markdown",
   "metadata": {},
   "source": [
    "### Часть 8. Выбор модели"
   ]
  },
  {
   "cell_type": "markdown",
   "metadata": {},
   "source": [
    "Так как мы имеем дело с задачей многоклассовой классификации, то попробовуем использовать два класса моделей: \n",
    "* Логистическую регрессию (LogisticRegression) - простой и быстрый вариант.\n",
    "* Градиентный бустинг (XGBoost) - потенциально обеспечит более высокую точность."
   ]
  },
  {
   "cell_type": "markdown",
   "metadata": {},
   "source": [
    "###  Часть 9. Кросс-валидация, подбор параметров"
   ]
  },
  {
   "cell_type": "markdown",
   "metadata": {},
   "source": [
    "### _Логистическая регрессия_"
   ]
  },
  {
   "cell_type": "markdown",
   "metadata": {
    "collapsed": true
   },
   "source": [
    "Для начала построим модель логистической регрессии с параметрами по умолчанию."
   ]
  },
  {
   "cell_type": "code",
   "execution_count": 86,
   "metadata": {},
   "outputs": [
    {
     "name": "stdout",
     "output_type": "stream",
     "text": [
      "Wall time: 42.8 s\n"
     ]
    }
   ],
   "source": [
    "%%time\n",
    "clf_logit = LogisticRegression(random_state=17, \n",
    "                               multi_class='multinomial',\n",
    "                               n_jobs=4,\n",
    "                               solver='lbfgs'\n",
    "                              )\n",
    "clf_logit.fit(X_train_part, y_train_part)"
   ]
  },
  {
   "cell_type": "markdown",
   "metadata": {},
   "source": [
    "#### Прогноз для отложенной и тестовой выборки"
   ]
  },
  {
   "cell_type": "code",
   "execution_count": 87,
   "metadata": {},
   "outputs": [],
   "source": [
    "y_predict = clf_logit.predict_proba(X_valid)"
   ]
  },
  {
   "cell_type": "code",
   "execution_count": 88,
   "metadata": {},
   "outputs": [
    {
     "name": "stdout",
     "output_type": "stream",
     "text": [
      "Wall time: 89.2 ms\n"
     ]
    },
    {
     "data": {
      "text/plain": [
       "0.8436636621671956"
      ]
     },
     "execution_count": 88,
     "metadata": {},
     "output_type": "execute_result"
    }
   ],
   "source": [
    "%%time\n",
    "my_ndcg(y_valid, y_predict, k=5)"
   ]
  },
  {
   "cell_type": "code",
   "execution_count": 140,
   "metadata": {},
   "outputs": [
    {
     "name": "stdout",
     "output_type": "stream",
     "text": [
      "Wall time: 9min 54s\n"
     ]
    }
   ],
   "source": [
    "%%time\n",
    "clf_logit.fit(X_train, y)\n",
    "y_predict = clf_logit.predict_proba(X_test)"
   ]
  },
  {
   "cell_type": "code",
   "execution_count": 141,
   "metadata": {},
   "outputs": [],
   "source": [
    "create_submission(y_predict, df_test.index, y_enc, 'sub_log_base.csv')"
   ]
  },
  {
   "cell_type": "markdown",
   "metadata": {},
   "source": [
    "Данный прогноз дает показатель на public LB = 0.85764, а на private LB - 0.86166."
   ]
  },
  {
   "cell_type": "markdown",
   "metadata": {},
   "source": [
    "#### Кросс-валидация логистической регрессии"
   ]
  },
  {
   "cell_type": "markdown",
   "metadata": {},
   "source": [
    "Теперь выполним кросс-валидацию модели логистической регрессии. Будем подбирать параметр регуляризации $C$ на кросс-валидации по 5 фолдам."
   ]
  },
  {
   "cell_type": "code",
   "execution_count": 144,
   "metadata": {},
   "outputs": [],
   "source": [
    "C_vals = np.logspace(-2, 2, 5)"
   ]
  },
  {
   "cell_type": "code",
   "execution_count": 146,
   "metadata": {},
   "outputs": [],
   "source": [
    "log_cv = LogisticRegressionCV(Cs=C_vals, \n",
    "                              cv=5, \n",
    "                              random_state=17, \n",
    "                              multi_class='multinomial', \n",
    "                              solver='lbfgs', \n",
    "                              scoring=ndcg_scorer, \n",
    "                              n_jobs=-1)"
   ]
  },
  {
   "cell_type": "code",
   "execution_count": 147,
   "metadata": {},
   "outputs": [
    {
     "name": "stdout",
     "output_type": "stream",
     "text": [
      "Wall time: 12min 38s\n"
     ]
    },
    {
     "data": {
      "text/plain": [
       "LogisticRegressionCV(Cs=array([1.e-02, 1.e-01, 1.e+00, 1.e+01, 1.e+02]),\n",
       "           class_weight=None, cv=5, dual=False, fit_intercept=True,\n",
       "           intercept_scaling=1.0, max_iter=100, multi_class='multinomial',\n",
       "           n_jobs=1, penalty='l2', random_state=17, refit=True,\n",
       "           scoring=make_scorer(my_ndcg, needs_proba=True, k=5),\n",
       "           solver='lbfgs', tol=0.0001, verbose=0)"
      ]
     },
     "execution_count": 147,
     "metadata": {},
     "output_type": "execute_result"
    }
   ],
   "source": [
    "%%time\n",
    "log_cv.fit(X_train_part, y_train_part)"
   ]
  },
  {
   "cell_type": "code",
   "execution_count": 148,
   "metadata": {},
   "outputs": [
    {
     "data": {
      "text/plain": [
       "array([0.01, 0.01, 0.01, 0.01, 0.01, 0.01, 0.01, 0.01, 0.01, 0.01, 0.01,\n",
       "       0.01])"
      ]
     },
     "execution_count": 148,
     "metadata": {},
     "output_type": "execute_result"
    }
   ],
   "source": [
    "log_cv.C_"
   ]
  },
  {
   "cell_type": "markdown",
   "metadata": {},
   "source": [
    "Оптимальный параметр C = 0.01."
   ]
  },
  {
   "cell_type": "markdown",
   "metadata": {},
   "source": [
    "#### Прогноз для отложенной и тестовой выборки (логистическая регрессия)"
   ]
  },
  {
   "cell_type": "markdown",
   "metadata": {},
   "source": [
    "Выполним прогнозы с учетом оптимального значения параметра C, полученного на кросс-валидации."
   ]
  },
  {
   "cell_type": "code",
   "execution_count": 89,
   "metadata": {},
   "outputs": [
    {
     "name": "stdout",
     "output_type": "stream",
     "text": [
      "Wall time: 38.6 s\n"
     ]
    }
   ],
   "source": [
    "%%time\n",
    "clf_logit = LogisticRegression(C=0.01, \n",
    "                               random_state=17, \n",
    "                               n_jobs=4,\n",
    "                               multi_class='multinomial', \n",
    "                               solver='lbfgs')\n",
    "clf_logit.fit(X_train_part, y_train_part)"
   ]
  },
  {
   "cell_type": "code",
   "execution_count": 90,
   "metadata": {},
   "outputs": [],
   "source": [
    "y_predict = clf_logit.predict_proba(X_valid)"
   ]
  },
  {
   "cell_type": "code",
   "execution_count": 92,
   "metadata": {},
   "outputs": [
    {
     "name": "stdout",
     "output_type": "stream",
     "text": [
      "Wall time: 139 ms\n"
     ]
    },
    {
     "data": {
      "text/plain": [
       "0.8449864632046636"
      ]
     },
     "execution_count": 92,
     "metadata": {},
     "output_type": "execute_result"
    }
   ],
   "source": [
    "%%time\n",
    "my_ndcg(y_valid, y_predict, k=5)"
   ]
  },
  {
   "cell_type": "code",
   "execution_count": 156,
   "metadata": {},
   "outputs": [
    {
     "name": "stdout",
     "output_type": "stream",
     "text": [
      "Wall time: 53 s\n"
     ]
    }
   ],
   "source": [
    "%%time\n",
    "clf_logit.fit(X_train, y)\n",
    "y_predict = clf_logit.predict_proba(X_test)"
   ]
  },
  {
   "cell_type": "code",
   "execution_count": 157,
   "metadata": {},
   "outputs": [],
   "source": [
    "create_submission(y_predict, df_test.index, y_enc, 'sub_tmp_cv.csv')"
   ]
  },
  {
   "cell_type": "markdown",
   "metadata": {},
   "source": [
    "По результатам кросс-валидации удалось улучшить скор на public LB - до 0.86439, на private LB - 0.86825."
   ]
  },
  {
   "cell_type": "markdown",
   "metadata": {},
   "source": [
    "#### Построим кривые валидации"
   ]
  },
  {
   "cell_type": "code",
   "execution_count": 14,
   "metadata": {},
   "outputs": [],
   "source": [
    "C_vals = np.logspace(-2, 1, 5)\n",
    "clf_logit = LogisticRegression(random_state=17, \n",
    "                               n_jobs=-1,\n",
    "                               multi_class='multinomial', \n",
    "                               solver='lbfgs')"
   ]
  },
  {
   "cell_type": "code",
   "execution_count": 15,
   "metadata": {},
   "outputs": [
    {
     "name": "stdout",
     "output_type": "stream",
     "text": [
      "Wall time: 5min 42s\n"
     ]
    },
    {
     "name": "stderr",
     "output_type": "stream",
     "text": [
      "[Parallel(n_jobs=-1)]: Done  25 out of  25 | elapsed:  5.7min finished\n"
     ]
    }
   ],
   "source": [
    "%%time\n",
    "val_train, val_test = validation_curve(clf_logit, \n",
    "                                       X_train, \n",
    "                                       y, \n",
    "                                       param_name='C', \n",
    "                                       param_range=C_vals, \n",
    "                                       cv=5,\n",
    "                                       scoring='neg_log_loss',\n",
    "                                       n_jobs=-1,\n",
    "                                       verbose=1)"
   ]
  },
  {
   "cell_type": "code",
   "execution_count": 16,
   "metadata": {},
   "outputs": [],
   "source": [
    "def plot_with_err(x, data, **kwargs):\n",
    "    mu, std = data.mean(1), data.std(1)\n",
    "    lines = plt.plot(x, mu, '-', **kwargs)\n",
    "    plt.fill_between(x, mu - std, mu + std, edgecolor='none',\n",
    "                     facecolor=lines[0].get_color(), alpha=0.2)\n",
    "\n"
   ]
  },
  {
   "cell_type": "code",
   "execution_count": 24,
   "metadata": {},
   "outputs": [
    {
     "data": {
      "image/png": "[encoded data removed]",
      "text/plain": [
       "<Figure size 1152x648 with 1 Axes>"
      ]
     },
     "metadata": {},
     "output_type": "display_data"
    }
   ],
   "source": [
    "plt.rcParams['figure.figsize'] = 16,9\n",
    "plot_with_err(C_vals, val_train, label='training scores')\n",
    "plot_with_err(C_vals, val_test, label='validation scores')\n",
    "plt.xlabel(r'$C$'); plt.ylabel('log loss')\n",
    "plt.legend();"
   ]
  },
  {
   "cell_type": "markdown",
   "metadata": {},
   "source": [
    "На основе анализа кривых валидации можно сделать вывод, что наша модель переобучена, т.к. в LogisticRegression меньшим значениям \"C\" соответствует большая регуляризация."
   ]
  },
  {
   "cell_type": "markdown",
   "metadata": {},
   "source": [
    "#### Построим кривые обучения"
   ]
  },
  {
   "cell_type": "code",
   "execution_count": 12,
   "metadata": {},
   "outputs": [],
   "source": []
  },
  {
   "cell_type": "code",
   "execution_count": 13,
   "metadata": {},
   "outputs": [],
   "source": [
    "from sklearn.metrics import log_loss"
   ]
  },
  {
   "cell_type": "code",
   "execution_count": 26,
   "metadata": {},
   "outputs": [],
   "source": [
    "log_loss_scorer = make_scorer(lambda y_true, y_pred: log_loss(y_true, y_pred, labels=np.unique(y_true)), needs_proba=True)"
   ]
  },
  {
   "cell_type": "code",
   "execution_count": null,
   "metadata": {},
   "outputs": [],
   "source": [
    "clf_logit = LogisticRegression(random_state=17, \n",
    "                               n_jobs=4,\n",
    "                               C=0.01,\n",
    "                               multi_class='multinomial', \n",
    "                               solver='lbfgs')\n",
    "    \n",
    "N_train, val_train, val_test = learning_curve(clf_logit,\n",
    "                                              X_train, y, \n",
    "                                              #groups=y,\n",
    "                                              #train_sizes=train_sizes, \n",
    "                                              cv=3,\n",
    "                                              n_jobs=1, \n",
    "                                              verbose=1,\n",
    "                                              scoring=ndcg_scorer)"
   ]
  },
  {
   "cell_type": "code",
   "execution_count": 29,
   "metadata": {},
   "outputs": [
    {
     "data": {
      "text/plain": [
       "<matplotlib.legend.Legend at 0x2069b163978>"
      ]
     },
     "execution_count": 29,
     "metadata": {},
     "output_type": "execute_result"
    },
    {
     "data": {
      "image/png": "[encoded data removed]",
      "text/plain": [
       "<Figure size 1152x648 with 1 Axes>"
      ]
     },
     "metadata": {},
     "output_type": "display_data"
    }
   ],
   "source": [
    "plt.rcParams['figure.figsize'] = 16,9\n",
    "plot_with_err(N_train, val_train, label='training scores')\n",
    "plot_with_err(N_train, val_test, label='validation scores')\n",
    "plt.xlabel('Training Set Size'); plt.ylabel('log loss')\n",
    "plt.title(\"Learning curves\")\n",
    "plt.legend()"
   ]
  },
  {
   "cell_type": "markdown",
   "metadata": {},
   "source": [
    "На кривой обучения мы видим, что метрики качества на обучающающей и валидационной выборках сходятся после примерно 15000 наблюдений. Далее они практически не меняются."
   ]
  },
  {
   "cell_type": "markdown",
   "metadata": {},
   "source": [
    "### _Градиентный бустинг (XGBoost)_"
   ]
  },
  {
   "cell_type": "markdown",
   "metadata": {},
   "source": [
    "#### Подбираем базовое количество деревьев"
   ]
  },
  {
   "cell_type": "markdown",
   "metadata": {},
   "source": [
    "XGBoost имеет большое количество тонких настроек. Вначале мы попробуем подобрать оптимальное количество деревьев (n_estimators) при помощи встроенной функции кросс-валидации xgboost. Из-за ограничения в вычислительных ресурсах мы не будем проверять значения n_estimators больше 100."
   ]
  },
  {
   "cell_type": "code",
   "execution_count": 204,
   "metadata": {},
   "outputs": [],
   "source": [
    "# Кастомная реализация метрики NDCG\n",
    "def ndcg5_score(preds, dtrain):\n",
    "    labels = dtrain.get_label()\n",
    "    top = []\n",
    "\n",
    "    for i in range(preds.shape[0]):\n",
    "        top.append(np.argsort(preds[i])[::-1][:5])\n",
    "\n",
    "    mat = np.reshape(np.repeat(labels,np.shape(top)[1]) == np.array(top).ravel(),np.array(top).shape).astype(int)\n",
    "    score = np.mean(np.sum(mat/np.log2(np.arange(2, mat.shape[1] + 2)),axis = 1))\n",
    "    return 'ndcg5', score"
   ]
  },
  {
   "cell_type": "code",
   "execution_count": 21,
   "metadata": {},
   "outputs": [
    {
     "name": "stdout",
     "output_type": "stream",
     "text": [
      "Wall time: 4.09 s\n"
     ]
    }
   ],
   "source": [
    "%%time\n",
    "xgtrain = xgb.DMatrix(X_train_part, label=y_train_part)"
   ]
  },
  {
   "cell_type": "code",
   "execution_count": 30,
   "metadata": {},
   "outputs": [],
   "source": [
    "param = {\n",
    "    'learning_rate': 0.1,\n",
    "    'max_depth': 5,\n",
    "    'n_estimators': 100,\n",
    "    'objective': 'multi:softprob',\n",
    "    'num_class': 12,\n",
    "    'gamma': 0,\n",
    "    'min_child_weight': 1,\n",
    "    'subsample': 0.8,\n",
    "    'colsample_bytree': 0.8,\n",
    "    'scale_pos_weight': 1,\n",
    "    'nthread': 8,\n",
    "    'n_jobs': -1,\n",
    "    'seed': 17\n",
    "}"
   ]
  },
  {
   "cell_type": "markdown",
   "metadata": {},
   "source": [
    "Запускаем встроенную функцию кросс-валидации xgboost"
   ]
  },
  {
   "cell_type": "code",
   "execution_count": 30,
   "metadata": {
    "scrolled": true
   },
   "outputs": [
    {
     "name": "stdout",
     "output_type": "stream",
     "text": [
      "[0]\ttrain-mlogloss:2.1769+0.00158542\ttrain-ndcg5:0.854036+0.00220826\ttest-mlogloss:2.17893+0.00300357\ttest-ndcg5:0.849863+0.00446812\n",
      "[1]\ttrain-mlogloss:1.97834+0.000712662\ttrain-ndcg5:0.857144+0.000197151\ttest-mlogloss:1.98218+0.00300686\ttest-ndcg5:0.852403+0.00250982\n",
      "[2]\ttrain-mlogloss:1.82975+0.000148818\ttrain-ndcg5:0.857902+0.0002779\ttest-mlogloss:1.83529+0.002779\ttest-ndcg5:0.852685+0.00246347\n",
      "[3]\ttrain-mlogloss:1.71174+0.000604509\ttrain-ndcg5:0.858332+0.000347534\ttest-mlogloss:1.71877+0.00276724\ttest-ndcg5:0.852931+0.00190701\n",
      "[4]\ttrain-mlogloss:1.61465+0.00117248\ttrain-ndcg5:0.858895+0.000199557\ttest-mlogloss:1.62356+0.00225482\ttest-ndcg5:0.853029+0.00185321\n",
      "[5]\ttrain-mlogloss:1.53346+0.00100644\ttrain-ndcg5:0.85884+0.000112937\ttest-mlogloss:1.54384+0.00297403\ttest-ndcg5:0.852768+0.0019597\n",
      "[6]\ttrain-mlogloss:1.46364+0.000838936\ttrain-ndcg5:0.859291+0.000122652\ttest-mlogloss:1.47565+0.00349438\ttest-ndcg5:0.852888+0.00215388\n",
      "[7]\ttrain-mlogloss:1.40322+0.00153401\ttrain-ndcg5:0.859593+0.000148209\ttest-mlogloss:1.41657+0.00291334\ttest-ndcg5:0.85308+0.00209583\n",
      "[8]\ttrain-mlogloss:1.34984+0.00160587\ttrain-ndcg5:0.860011+0.000331489\ttest-mlogloss:1.36468+0.00296332\ttest-ndcg5:0.85352+0.00193406\n",
      "[9]\ttrain-mlogloss:1.30272+0.00169812\ttrain-ndcg5:0.860389+0.000422371\ttest-mlogloss:1.31922+0.00304449\ttest-ndcg5:0.85338+0.00192566\n",
      "[10]\ttrain-mlogloss:1.26132+0.00207236\ttrain-ndcg5:0.860761+0.000580147\ttest-mlogloss:1.27916+0.00281428\ttest-ndcg5:0.853456+0.00141129\n",
      "[11]\ttrain-mlogloss:1.22431+0.00198106\ttrain-ndcg5:0.861259+0.000691899\ttest-mlogloss:1.24373+0.00292579\ttest-ndcg5:0.853612+0.00158113\n",
      "[12]\ttrain-mlogloss:1.19119+0.00215851\ttrain-ndcg5:0.861561+0.000826416\ttest-mlogloss:1.21219+0.00293567\ttest-ndcg5:0.853487+0.0015184\n",
      "[13]\ttrain-mlogloss:1.16159+0.00235329\ttrain-ndcg5:0.861687+0.000845543\ttest-mlogloss:1.18407+0.00294321\ttest-ndcg5:0.853661+0.00150858\n",
      "[14]\ttrain-mlogloss:1.13485+0.00238665\ttrain-ndcg5:0.862163+0.00092235\ttest-mlogloss:1.1588+0.00301233\ttest-ndcg5:0.853679+0.001533\n",
      "[15]\ttrain-mlogloss:1.1108+0.00252535\ttrain-ndcg5:0.862406+0.00102546\ttest-mlogloss:1.13627+0.00315041\ttest-ndcg5:0.853906+0.00158126\n",
      "[16]\ttrain-mlogloss:1.08887+0.00249195\ttrain-ndcg5:0.862861+0.000993685\ttest-mlogloss:1.11581+0.00330933\ttest-ndcg5:0.853988+0.00150498\n",
      "[17]\ttrain-mlogloss:1.06914+0.00245535\ttrain-ndcg5:0.863118+0.00115173\ttest-mlogloss:1.09758+0.00348386\ttest-ndcg5:0.853955+0.00152988\n",
      "[18]\ttrain-mlogloss:1.05136+0.00238946\ttrain-ndcg5:0.863452+0.00102982\ttest-mlogloss:1.08131+0.00360396\ttest-ndcg5:0.853933+0.00163353\n",
      "[19]\ttrain-mlogloss:1.03504+0.00230579\ttrain-ndcg5:0.863771+0.000999442\ttest-mlogloss:1.06666+0.00368433\ttest-ndcg5:0.853994+0.00160775\n",
      "[20]\ttrain-mlogloss:1.0201+0.00235483\ttrain-ndcg5:0.863929+0.000859363\ttest-mlogloss:1.05328+0.00365164\ttest-ndcg5:0.853896+0.00166261\n",
      "[21]\ttrain-mlogloss:1.00657+0.00230481\ttrain-ndcg5:0.864209+0.000963334\ttest-mlogloss:1.04127+0.00375909\ttest-ndcg5:0.854097+0.00154256\n",
      "[22]\ttrain-mlogloss:0.994157+0.00234972\ttrain-ndcg5:0.864477+0.00089989\ttest-mlogloss:1.03043+0.00379881\ttest-ndcg5:0.854034+0.00147794\n",
      "[23]\ttrain-mlogloss:0.982862+0.00251373\ttrain-ndcg5:0.864852+0.000898749\ttest-mlogloss:1.0206+0.00377091\ttest-ndcg5:0.854116+0.00136519\n",
      "[24]\ttrain-mlogloss:0.972417+0.00254425\ttrain-ndcg5:0.865062+0.000893313\ttest-mlogloss:1.01167+0.00387099\ttest-ndcg5:0.854159+0.00147293\n",
      "[25]\ttrain-mlogloss:0.962793+0.00252314\ttrain-ndcg5:0.865261+0.000834458\ttest-mlogloss:1.00354+0.00401487\ttest-ndcg5:0.85433+0.00156604\n",
      "[26]\ttrain-mlogloss:0.95386+0.00252072\ttrain-ndcg5:0.865588+0.000751202\ttest-mlogloss:0.996173+0.0041049\ttest-ndcg5:0.854376+0.0016373\n",
      "[27]\ttrain-mlogloss:0.945746+0.00265636\ttrain-ndcg5:0.865779+0.000728666\ttest-mlogloss:0.989544+0.00419234\ttest-ndcg5:0.85434+0.00175293\n",
      "[28]\ttrain-mlogloss:0.93812+0.00265381\ttrain-ndcg5:0.866047+0.000804138\ttest-mlogloss:0.983491+0.00424319\ttest-ndcg5:0.8544+0.00171973\n",
      "[29]\ttrain-mlogloss:0.930925+0.00281869\ttrain-ndcg5:0.866392+0.000849769\ttest-mlogloss:0.977898+0.00424197\ttest-ndcg5:0.854454+0.00164622\n",
      "[30]\ttrain-mlogloss:0.924121+0.00287867\ttrain-ndcg5:0.866658+0.000921712\ttest-mlogloss:0.972775+0.00416168\ttest-ndcg5:0.854544+0.00155764\n",
      "[31]\ttrain-mlogloss:0.917999+0.00287951\ttrain-ndcg5:0.866904+0.000985262\ttest-mlogloss:0.968213+0.0041989\ttest-ndcg5:0.854391+0.00161258\n",
      "[32]\ttrain-mlogloss:0.91205+0.00272579\ttrain-ndcg5:0.867279+0.000951021\ttest-mlogloss:0.964049+0.00432299\ttest-ndcg5:0.854609+0.00152277\n",
      "[33]\ttrain-mlogloss:0.90666+0.00276143\ttrain-ndcg5:0.867603+0.000909201\ttest-mlogloss:0.960207+0.00439531\ttest-ndcg5:0.854528+0.00151522\n",
      "[34]\ttrain-mlogloss:0.901491+0.00273582\ttrain-ndcg5:0.867909+0.000789593\ttest-mlogloss:0.956705+0.00446485\ttest-ndcg5:0.854508+0.00148955\n",
      "[35]\ttrain-mlogloss:0.896605+0.00278048\ttrain-ndcg5:0.868111+0.000883814\ttest-mlogloss:0.953515+0.00449054\ttest-ndcg5:0.854515+0.00143438\n",
      "[36]\ttrain-mlogloss:0.891926+0.0028206\ttrain-ndcg5:0.868374+0.000839846\ttest-mlogloss:0.950558+0.00448316\ttest-ndcg5:0.854466+0.00135941\n",
      "[37]\ttrain-mlogloss:0.887545+0.00279317\ttrain-ndcg5:0.868653+0.000778292\ttest-mlogloss:0.94791+0.00444909\ttest-ndcg5:0.85446+0.00141224\n",
      "[38]\ttrain-mlogloss:0.883468+0.00268596\ttrain-ndcg5:0.868932+0.000773333\ttest-mlogloss:0.945459+0.00452881\ttest-ndcg5:0.854364+0.00140272\n",
      "[39]\ttrain-mlogloss:0.879678+0.00278526\ttrain-ndcg5:0.86919+0.000802962\ttest-mlogloss:0.943177+0.00454929\ttest-ndcg5:0.85455+0.00145394\n",
      "[40]\ttrain-mlogloss:0.876052+0.00274644\ttrain-ndcg5:0.869386+0.000791053\ttest-mlogloss:0.941077+0.00455718\ttest-ndcg5:0.854432+0.00139706\n",
      "[41]\ttrain-mlogloss:0.872386+0.00277556\ttrain-ndcg5:0.869625+0.000756644\ttest-mlogloss:0.939146+0.00461311\ttest-ndcg5:0.854564+0.0015118\n",
      "[42]\ttrain-mlogloss:0.869084+0.00273595\ttrain-ndcg5:0.869783+0.000808976\ttest-mlogloss:0.937431+0.00466254\ttest-ndcg5:0.854728+0.00153726\n",
      "[43]\ttrain-mlogloss:0.865855+0.00285111\ttrain-ndcg5:0.870189+0.000709345\ttest-mlogloss:0.935824+0.00466421\ttest-ndcg5:0.854819+0.00156731\n",
      "[44]\ttrain-mlogloss:0.862787+0.00281304\ttrain-ndcg5:0.87043+0.000619539\ttest-mlogloss:0.934345+0.00466514\ttest-ndcg5:0.854789+0.00146314\n",
      "[45]\ttrain-mlogloss:0.85981+0.00280431\ttrain-ndcg5:0.870672+0.000710039\ttest-mlogloss:0.933067+0.00471439\ttest-ndcg5:0.8548+0.00159918\n",
      "[46]\ttrain-mlogloss:0.856833+0.00273582\ttrain-ndcg5:0.870916+0.000680397\ttest-mlogloss:0.931769+0.00472131\ttest-ndcg5:0.854933+0.00166282\n",
      "[47]\ttrain-mlogloss:0.854131+0.0027414\ttrain-ndcg5:0.871175+0.000609568\ttest-mlogloss:0.930709+0.00481748\ttest-ndcg5:0.854907+0.00160895\n",
      "[48]\ttrain-mlogloss:0.851455+0.00265638\ttrain-ndcg5:0.871562+0.000574627\ttest-mlogloss:0.929636+0.00468287\ttest-ndcg5:0.85499+0.00162771\n",
      "[49]\ttrain-mlogloss:0.84895+0.00276906\ttrain-ndcg5:0.871767+0.000593995\ttest-mlogloss:0.928722+0.00471556\ttest-ndcg5:0.854896+0.00164241\n",
      "[50]\ttrain-mlogloss:0.846457+0.00267411\ttrain-ndcg5:0.872037+0.000542351\ttest-mlogloss:0.927909+0.00479463\ttest-ndcg5:0.854858+0.00158278\n",
      "[51]\ttrain-mlogloss:0.84402+0.00262815\ttrain-ndcg5:0.872268+0.000568643\ttest-mlogloss:0.927074+0.00483899\ttest-ndcg5:0.854907+0.00161046\n",
      "[52]\ttrain-mlogloss:0.841577+0.00264605\ttrain-ndcg5:0.872514+0.000647074\ttest-mlogloss:0.926336+0.00480969\ttest-ndcg5:0.854932+0.00155649\n",
      "[53]\ttrain-mlogloss:0.839139+0.00269841\ttrain-ndcg5:0.872768+0.000604151\ttest-mlogloss:0.925609+0.00474433\ttest-ndcg5:0.854951+0.00154795\n",
      "[54]\ttrain-mlogloss:0.836869+0.00280288\ttrain-ndcg5:0.873066+0.000666608\ttest-mlogloss:0.924881+0.00480876\ttest-ndcg5:0.854966+0.00150885\n",
      "[55]\ttrain-mlogloss:0.834577+0.00274021\ttrain-ndcg5:0.873398+0.00057776\ttest-mlogloss:0.924205+0.00483029\ttest-ndcg5:0.855174+0.0013807\n",
      "[56]\ttrain-mlogloss:0.832449+0.00286116\ttrain-ndcg5:0.873593+0.000595569\ttest-mlogloss:0.923598+0.0047419\ttest-ndcg5:0.855081+0.00138292\n",
      "[57]\ttrain-mlogloss:0.830247+0.00274034\ttrain-ndcg5:0.873842+0.000546536\ttest-mlogloss:0.923081+0.00477277\ttest-ndcg5:0.854938+0.00127199\n",
      "[58]\ttrain-mlogloss:0.828313+0.00275759\ttrain-ndcg5:0.874017+0.000586797\ttest-mlogloss:0.922635+0.00485417\ttest-ndcg5:0.855085+0.00124842\n",
      "[59]\ttrain-mlogloss:0.826319+0.00285942\ttrain-ndcg5:0.87432+0.000580776\ttest-mlogloss:0.922235+0.00481806\ttest-ndcg5:0.854953+0.00125946\n",
      "[60]\ttrain-mlogloss:0.824409+0.00265972\ttrain-ndcg5:0.874517+0.000482247\ttest-mlogloss:0.92182+0.00482629\ttest-ndcg5:0.854993+0.00126631\n"
     ]
    },
    {
     "name": "stdout",
     "output_type": "stream",
     "text": [
      "[61]\ttrain-mlogloss:0.822406+0.00269136\ttrain-ndcg5:0.874789+0.000500536\ttest-mlogloss:0.921414+0.00485215\ttest-ndcg5:0.85492+0.00129989\n",
      "[62]\ttrain-mlogloss:0.820479+0.0027446\ttrain-ndcg5:0.874985+0.000572014\ttest-mlogloss:0.921065+0.00483551\ttest-ndcg5:0.854961+0.00140634\n",
      "[63]\ttrain-mlogloss:0.818775+0.00269652\ttrain-ndcg5:0.875138+0.000484875\ttest-mlogloss:0.920771+0.00485801\ttest-ndcg5:0.85495+0.00141899\n",
      "[64]\ttrain-mlogloss:0.81692+0.00265637\ttrain-ndcg5:0.875428+0.000486507\ttest-mlogloss:0.920505+0.00488667\ttest-ndcg5:0.854903+0.00145165\n",
      "[65]\ttrain-mlogloss:0.814952+0.00266866\ttrain-ndcg5:0.875705+0.000561698\ttest-mlogloss:0.920214+0.00493572\ttest-ndcg5:0.854948+0.00144846\n",
      "[66]\ttrain-mlogloss:0.813071+0.00257396\ttrain-ndcg5:0.875895+0.000533417\ttest-mlogloss:0.920009+0.00495257\ttest-ndcg5:0.854906+0.00145529\n",
      "[67]\ttrain-mlogloss:0.811308+0.00250714\ttrain-ndcg5:0.876186+0.000522817\ttest-mlogloss:0.919745+0.00499178\ttest-ndcg5:0.855002+0.00154235\n",
      "[68]\ttrain-mlogloss:0.809654+0.00248806\ttrain-ndcg5:0.876421+0.000545389\ttest-mlogloss:0.919466+0.0049675\ttest-ndcg5:0.855028+0.00151605\n",
      "[69]\ttrain-mlogloss:0.807821+0.00237898\ttrain-ndcg5:0.876678+0.000504742\ttest-mlogloss:0.919259+0.00501284\ttest-ndcg5:0.854943+0.00157025\n",
      "[70]\ttrain-mlogloss:0.806098+0.00247631\ttrain-ndcg5:0.876918+0.000545907\ttest-mlogloss:0.919105+0.00493176\ttest-ndcg5:0.855046+0.0014264\n",
      "[71]\ttrain-mlogloss:0.804271+0.00236618\ttrain-ndcg5:0.877231+0.000517783\ttest-mlogloss:0.918903+0.00491227\ttest-ndcg5:0.855038+0.00123824\n",
      "[72]\ttrain-mlogloss:0.802684+0.00235855\ttrain-ndcg5:0.877505+0.000483753\ttest-mlogloss:0.91878+0.00489664\ttest-ndcg5:0.855107+0.00123435\n",
      "[73]\ttrain-mlogloss:0.80096+0.00224946\ttrain-ndcg5:0.877787+0.000485693\ttest-mlogloss:0.918683+0.0048963\ttest-ndcg5:0.855188+0.00129408\n",
      "[74]\ttrain-mlogloss:0.799344+0.00220719\ttrain-ndcg5:0.878071+0.000460508\ttest-mlogloss:0.918608+0.00485483\ttest-ndcg5:0.855199+0.00142951\n",
      "[75]\ttrain-mlogloss:0.797861+0.00230191\ttrain-ndcg5:0.878285+0.000494504\ttest-mlogloss:0.918468+0.00484971\ttest-ndcg5:0.855157+0.00147047\n",
      "[76]\ttrain-mlogloss:0.796269+0.00225115\ttrain-ndcg5:0.878479+0.000463628\ttest-mlogloss:0.918312+0.00487653\ttest-ndcg5:0.855113+0.00145833\n",
      "[77]\ttrain-mlogloss:0.794794+0.002362\ttrain-ndcg5:0.878764+0.000496406\ttest-mlogloss:0.918196+0.00485694\ttest-ndcg5:0.855103+0.00145934\n",
      "[78]\ttrain-mlogloss:0.79319+0.00229846\ttrain-ndcg5:0.878999+0.000487937\ttest-mlogloss:0.918125+0.00489664\ttest-ndcg5:0.855055+0.00147972\n",
      "[79]\ttrain-mlogloss:0.791692+0.00234309\ttrain-ndcg5:0.879207+0.000449032\ttest-mlogloss:0.918076+0.00492081\ttest-ndcg5:0.855103+0.00160789\n",
      "[80]\ttrain-mlogloss:0.790103+0.00226483\ttrain-ndcg5:0.879388+0.000410467\ttest-mlogloss:0.918034+0.00490514\ttest-ndcg5:0.855113+0.00149029\n",
      "[81]\ttrain-mlogloss:0.788562+0.00238272\ttrain-ndcg5:0.879605+0.000360955\ttest-mlogloss:0.917925+0.0048504\ttest-ndcg5:0.855154+0.00150122\n",
      "[82]\ttrain-mlogloss:0.787198+0.00244836\ttrain-ndcg5:0.879821+0.000387115\ttest-mlogloss:0.917922+0.00493088\ttest-ndcg5:0.855159+0.0014761\n",
      "[83]\ttrain-mlogloss:0.78563+0.00236426\ttrain-ndcg5:0.880063+0.000337764\ttest-mlogloss:0.917842+0.00491545\ttest-ndcg5:0.85504+0.00145301\n",
      "[84]\ttrain-mlogloss:0.784229+0.00233747\ttrain-ndcg5:0.880306+0.000364868\ttest-mlogloss:0.917858+0.00490393\ttest-ndcg5:0.855045+0.00149435\n",
      "[85]\ttrain-mlogloss:0.782951+0.00224946\ttrain-ndcg5:0.880426+0.000316115\ttest-mlogloss:0.917789+0.00479701\ttest-ndcg5:0.854987+0.00146289\n",
      "[86]\ttrain-mlogloss:0.781531+0.00210568\ttrain-ndcg5:0.880631+0.000317121\ttest-mlogloss:0.9178+0.00470991\ttest-ndcg5:0.854988+0.00143711\n",
      "[87]\ttrain-mlogloss:0.780239+0.00205074\ttrain-ndcg5:0.880848+0.000336257\ttest-mlogloss:0.91776+0.00471108\ttest-ndcg5:0.85506+0.00141265\n",
      "[88]\ttrain-mlogloss:0.778843+0.00200041\ttrain-ndcg5:0.881069+0.000312321\ttest-mlogloss:0.917703+0.00472639\ttest-ndcg5:0.855123+0.00149521\n",
      "[89]\ttrain-mlogloss:0.777493+0.00201354\ttrain-ndcg5:0.88121+0.000281426\ttest-mlogloss:0.917664+0.00478882\ttest-ndcg5:0.855196+0.00150099\n",
      "[90]\ttrain-mlogloss:0.776101+0.00200572\ttrain-ndcg5:0.881456+0.000332941\ttest-mlogloss:0.917658+0.00483903\ttest-ndcg5:0.855212+0.00150857\n",
      "[91]\ttrain-mlogloss:0.774734+0.0020338\ttrain-ndcg5:0.881669+0.000297727\ttest-mlogloss:0.917702+0.00483498\ttest-ndcg5:0.855164+0.00150926\n",
      "[92]\ttrain-mlogloss:0.773375+0.00215029\ttrain-ndcg5:0.881898+0.000313772\ttest-mlogloss:0.917645+0.00483917\ttest-ndcg5:0.855157+0.0014936\n",
      "[93]\ttrain-mlogloss:0.772083+0.00207286\ttrain-ndcg5:0.882051+0.000305992\ttest-mlogloss:0.91762+0.00484688\ttest-ndcg5:0.855238+0.00142239\n",
      "[94]\ttrain-mlogloss:0.770693+0.00203153\ttrain-ndcg5:0.882286+0.000345845\ttest-mlogloss:0.917634+0.00482533\ttest-ndcg5:0.855214+0.00142663\n",
      "[95]\ttrain-mlogloss:0.769315+0.00203788\ttrain-ndcg5:0.882509+0.000361586\ttest-mlogloss:0.917652+0.00483543\ttest-ndcg5:0.855144+0.00146161\n",
      "[96]\ttrain-mlogloss:0.767901+0.0020676\ttrain-ndcg5:0.882786+0.000375065\ttest-mlogloss:0.917719+0.00482806\ttest-ndcg5:0.855171+0.00153316\n",
      "[97]\ttrain-mlogloss:0.766622+0.00194015\ttrain-ndcg5:0.882992+0.000321\ttest-mlogloss:0.91778+0.00482843\ttest-ndcg5:0.855176+0.00147565\n",
      "[98]\ttrain-mlogloss:0.765408+0.00190651\ttrain-ndcg5:0.883135+0.000298415\ttest-mlogloss:0.917814+0.00475368\ttest-ndcg5:0.855171+0.00142462\n",
      "[99]\ttrain-mlogloss:0.764135+0.00184215\ttrain-ndcg5:0.883315+0.000270089\ttest-mlogloss:0.917893+0.00469563\ttest-ndcg5:0.855197+0.00148012\n",
      "Wall time: 7min 7s\n"
     ]
    }
   ],
   "source": [
    "%%time\n",
    "cvresult = xgb.cv(param, \n",
    "                  xgtrain, \n",
    "                  num_boost_round=100, \n",
    "                  metrics=['mlogloss'], \n",
    "                  feval=ndcg5_score, \n",
    "                  maximize=True,\n",
    "                  #nfold=5,\n",
    "                  seed=17, \n",
    "                  early_stopping_rounds=50, \n",
    "                  verbose_eval=True)"
   ]
  },
  {
   "cell_type": "code",
   "execution_count": 33,
   "metadata": {},
   "outputs": [
    {
     "data": {
      "text/plain": [
       "100"
      ]
     },
     "execution_count": 33,
     "metadata": {},
     "output_type": "execute_result"
    }
   ],
   "source": [
    "cvresult.shape[0]"
   ]
  },
  {
   "cell_type": "markdown",
   "metadata": {},
   "source": [
    "Мы уперлись в ограничение на количество деревьев. Возможно, имеется потенциал дальнейшего улучшения, но из-за вычислительных ограничений мы остановимся на n_estimators=100."
   ]
  },
  {
   "cell_type": "markdown",
   "metadata": {},
   "source": [
    "#### Прогноз на отложенной выборке"
   ]
  },
  {
   "cell_type": "code",
   "execution_count": 102,
   "metadata": {},
   "outputs": [],
   "source": [
    "xgb1 = XGBClassifier(\n",
    "     learning_rate=0.1,\n",
    "     min_child_weight=1,\n",
    "     n_estimators=100,\n",
    "     max_depth=5,\n",
    "     gamma=0,\n",
    "     subsample=0.8,\n",
    "     colsample_bytree=0.8,\n",
    "     objective='multi:softprob',\n",
    "     num_class=12,\n",
    "     scale_pos_weight=1,\n",
    "     reg_alpha=0,\n",
    "     reg_lambda=1,\n",
    "     nthread=8,\n",
    "     n_jobs=-1,\n",
    "     seed=17\n",
    ")"
   ]
  },
  {
   "cell_type": "code",
   "execution_count": 103,
   "metadata": {},
   "outputs": [
    {
     "name": "stdout",
     "output_type": "stream",
     "text": [
      "Wall time: 2min 58s\n"
     ]
    }
   ],
   "source": [
    "%%time\n",
    "xgb1.fit(X_train_part, y_train_part)\n",
    "y_predict = xgb1.predict_proba(X_valid)"
   ]
  },
  {
   "cell_type": "code",
   "execution_count": 104,
   "metadata": {},
   "outputs": [
    {
     "name": "stdout",
     "output_type": "stream",
     "text": [
      "Wall time: 87.3 ms\n"
     ]
    },
    {
     "data": {
      "text/plain": [
       "0.8541637026393089"
      ]
     },
     "execution_count": 104,
     "metadata": {},
     "output_type": "execute_result"
    }
   ],
   "source": [
    "%%time\n",
    "my_ndcg(y_valid, y_predict, k=5)"
   ]
  },
  {
   "cell_type": "code",
   "execution_count": 35,
   "metadata": {
    "scrolled": true
   },
   "outputs": [
    {
     "name": "stdout",
     "output_type": "stream",
     "text": [
      "Wall time: 4min 19s\n"
     ]
    }
   ],
   "source": [
    "%%time\n",
    "xgb1.fit(X_train, y)\n",
    "y_predict = xgb1.predict_proba(X_test)"
   ]
  },
  {
   "cell_type": "code",
   "execution_count": 119,
   "metadata": {},
   "outputs": [],
   "source": [
    "create_submission(y_predict, df_test.index, y_enc, 'sub_xgb_100.csv')"
   ]
  },
  {
   "cell_type": "markdown",
   "metadata": {},
   "source": [
    "Данный сабмит получил public LB - 0.88039, private LB - 0.88552"
   ]
  },
  {
   "cell_type": "markdown",
   "metadata": {},
   "source": [
    "#### Настройка параметров XGBoost"
   ]
  },
  {
   "cell_type": "markdown",
   "metadata": {},
   "source": [
    "Из-за ограничения вычислительных ресурсов и особенностей пространства признаков задачи (много разреженных переменных) сделать полноценный поиск оптимальных параметров XGBoost не представляется возможным. Нам не удалось за разумное время посчитать при помощи GridSearch и кросс-валидации на 3 фолда оптимальные параметры, поэтому мы использовали более простую схему ручного перебора - без кросс-валидации, но с оценкой на валидационной (отложенной) выборке. В результате получены следующие \"оптимальные\" параметры:"
   ]
  },
  {
   "cell_type": "code",
   "execution_count": 93,
   "metadata": {},
   "outputs": [],
   "source": [
    "xgb1 = XGBClassifier(\n",
    "     learning_rate=0.1,\n",
    "     min_child_weight=1,\n",
    "     n_estimators=100,\n",
    "     max_depth=5,\n",
    "     gamma=0.5,\n",
    "     subsample=0.8,\n",
    "     colsample_bytree=0.8,\n",
    "     objective='multi:softprob',\n",
    "     num_class=12,\n",
    "     scale_pos_weight=1,\n",
    "     reg_alpha=0,\n",
    "     reg_lambda=1,\n",
    "     nthread=8,\n",
    "     n_jobs=-1,\n",
    "     seed=17\n",
    ")"
   ]
  },
  {
   "cell_type": "markdown",
   "metadata": {},
   "source": [
    "#### Прогноз на отложенной выборке"
   ]
  },
  {
   "cell_type": "code",
   "execution_count": 94,
   "metadata": {},
   "outputs": [
    {
     "name": "stdout",
     "output_type": "stream",
     "text": [
      "Wall time: 4min 7s\n"
     ]
    }
   ],
   "source": [
    "%%time\n",
    "xgb1.fit(X_train_part, y_train_part)\n",
    "y_predict = xgb1.predict_proba(X_valid)"
   ]
  },
  {
   "cell_type": "code",
   "execution_count": 95,
   "metadata": {},
   "outputs": [
    {
     "data": {
      "text/plain": [
       "0.8544790784551072"
      ]
     },
     "execution_count": 95,
     "metadata": {},
     "output_type": "execute_result"
    }
   ],
   "source": [
    "my_ndcg(y_valid, y_predict, k=5)"
   ]
  },
  {
   "cell_type": "markdown",
   "metadata": {},
   "source": [
    "#### Прогноз на тестовой выборке и сабмит"
   ]
  },
  {
   "cell_type": "code",
   "execution_count": 202,
   "metadata": {},
   "outputs": [
    {
     "name": "stdout",
     "output_type": "stream",
     "text": [
      "Wall time: 4min 39s\n"
     ]
    }
   ],
   "source": [
    "%%time\n",
    "xgb1.fit(X_train, y)\n",
    "y_predict = xgb1.predict_proba(X_test)"
   ]
  },
  {
   "cell_type": "code",
   "execution_count": 203,
   "metadata": {},
   "outputs": [],
   "source": [
    "create_submission(y_predict, df_test.index, y_enc, 'sub_xgb_100_tune.csv')"
   ]
  },
  {
   "cell_type": "markdown",
   "metadata": {},
   "source": [
    "Данный сабмит получил public LB - 0.88052, private LB - 0.88559."
   ]
  },
  {
   "cell_type": "markdown",
   "metadata": {},
   "source": [
    "### Часть 11. Выводы "
   ]
  },
  {
   "cell_type": "markdown",
   "metadata": {
    "collapsed": true
   },
   "source": [
    "В результате применения более сложного семейства моделей - градиентного бустинга - нам удалось повысить качество прогноза на тестовой выборке, однако это было сделано ценой значительно больших вычислительных ресурсов и времени. Целевая метрика получилась довольно высокой 0.88559 (private LB), что говорит о хорошем качестве прогноза. На момент выполнения проекта соревнование на Kaggle уже было завершено, но по текущим показателям в лидерборде мой сабмит находится на 95 месте (top 6%).\n",
    "\n",
    "Результаты прогноза наиболее вероятной страны первого бронирования позволят оптимизировать показ рекламных баннеров и почтовую рассылку, сделает ее более персонализированной. Это в свою очередь позволит увеличить степень использования сервиса новыми клиентами и снизить среднее время от регистрации до первого бронирования."
   ]
  },
  {
   "cell_type": "markdown",
   "metadata": {},
   "source": [
    "**Если у вас возникнут вопросы, замечания или вы хотите поделиться своими мыслями по поводу этого проекта и подходов описанных в нем, то в ODS slack вы можете меня найти @konobey**"
   ]
  },
  {
   "cell_type": "code",
   "execution_count": null,
   "metadata": {},
   "outputs": [],
   "source": []
  }
 ],
 "metadata": {
  "kernelspec": {
   "display_name": "Python 3",
   "language": "python",
   "name": "python3"
  },
  "language_info": {
   "codemirror_mode": {
    "name": "ipython",
    "version": 3
   },
   "file_extension": ".py",
   "mimetype": "text/x-python",
   "name": "python",
   "nbconvert_exporter": "python",
   "pygments_lexer": "ipython3",
   "version": "3.6.5"
  }
 },
 "nbformat": 4,
 "nbformat_minor": 1
}
